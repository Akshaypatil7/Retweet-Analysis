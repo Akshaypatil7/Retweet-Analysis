{
 "cells": [
  {
   "cell_type": "code",
   "execution_count": 1,
   "metadata": {},
   "outputs": [],
   "source": [
    "# loading the required libraries \n",
    "#Load required libraries\n",
    "import os\n",
    "import csv\n",
    "import tweepy\n",
    "from tweepy import OAuthHandler\n",
    "from tweepy import Stream\n",
    "import pandas as pd\n",
    "import numpy as np\n",
    "import matplotlib.pyplot as plt\n",
    "# from vaderSentiment.vaderSentiment import SentimentIntensityAnalyzer\n",
    "# from textblob.sentiments import NaiveBayesAnalyzer\n",
    "from spacy.lang.en import English\n",
    "from spacy.lang.en.stop_words import STOP_WORDS\n",
    "stop_words = STOP_WORDS\n",
    "import string\n",
    "punctuations = string.punctuation\n",
    "from xgboost import XGBRegressor\n",
    "import xgboost as xgb\n",
    "from sklearn.pipeline import Pipeline\n",
    "from sklearn.feature_extraction.text import CountVectorizer\n",
    "from sklearn.feature_extraction.text import TfidfTransformer\n",
    "from sklearn.model_selection import GridSearchCV\n",
    "from sklearn.naive_bayes import MultinomialNB\n",
    "import seaborn as sns\n",
    "from sklearn.multioutput import MultiOutputRegressor\n",
    "from sklearn.ensemble import RandomForestRegressor\n",
    "from spacy.lang.en import English\n",
    "from spacy.lang.en.stop_words import STOP_WORDS\n",
    "from sklearn.base import TransformerMixin\n",
    "from sklearn.feature_extraction.text import TfidfVectorizer \n",
    "from sklearn.feature_extraction.text import TfidfTransformer\n",
    "from sklearn.preprocessing import StandardScaler\n",
    "from sklearn.model_selection import train_test_split\n",
    "from sklearn import metrics"
   ]
  },
  {
   "cell_type": "code",
   "execution_count": 2,
   "metadata": {},
   "outputs": [
    {
     "data": {
      "text/plain": [
       "'C:\\\\Users\\\\admin\\\\Documents\\\\Python Files'"
      ]
     },
     "execution_count": 2,
     "metadata": {},
     "output_type": "execute_result"
    }
   ],
   "source": [
    "#set working directory\n",
    "os.chdir(\"C:/Users/admin/Documents/Python Files\")\n",
    "os.getcwd()"
   ]
  },
  {
   "cell_type": "code",
   "execution_count": 35,
   "metadata": {},
   "outputs": [],
   "source": [
    "## Connect Twitter\n",
    "\n",
    "#Store required keys\n",
    "consumer_key = \"9geIDwOzVdbm0dCuAiUpzCUnu\"\n",
    "consumer_secret = \"TzkfViMc6bDdK2FILQ8xTVCG82qjn0FhUdvsJGzlQ79J0EG3SR\"\n",
    "access_key = \"1541025487-DeXUlBh0Oo76u5NWW4j7iPejrTlRbw3A3Q2zMU0\"\n",
    "access_secret = \"J0H68P6Zgmx7tcQfEL0qjDVgsTXsPTGeRml04cbk233jp\""
   ]
  },
  {
   "cell_type": "code",
   "execution_count": 4,
   "metadata": {},
   "outputs": [],
   "source": [
    "#Establish connection\n",
    "auth = tweepy.OAuthHandler(consumer_key, consumer_secret)\n",
    "auth.set_access_token(access_key, access_secret)\n",
    "api = tweepy.API(auth)"
   ]
  },
  {
   "cell_type": "markdown",
   "metadata": {},
   "source": [
    "##### \tWe have extracted tweets by below trending Hastags\n",
    "1. \t#BTSWORLD\n",
    "-Tweet count: 500\n",
    "2. \t#PAKvNZ\n",
    "-Tweet count: 500\n",
    "3. \t#GOT7onTodayShow\n",
    "-Tweet count: 500"
   ]
  },
  {
   "cell_type": "code",
   "execution_count": 16,
   "metadata": {},
   "outputs": [],
   "source": [
    "#Extract tweets\n",
    "#Create empty list\n",
    "results = []\n",
    "trending_hastags = ['#BTSWORLD','#PAKvNZ','#GOT7onTodayShow']\n",
    "for i in trending_hastags:\n",
    "    #Get the first 500 items based on the search query\n",
    "    for tweet in tweepy.Cursor(api.search,q=i,lang=\"en\").items(500):\n",
    "        results.append(tweet)"
   ]
  },
  {
   "cell_type": "code",
   "execution_count": 17,
   "metadata": {},
   "outputs": [
    {
     "name": "stdout",
     "output_type": "stream",
     "text": [
      "1500\n"
     ]
    }
   ],
   "source": [
    "# Verify the number of items returned\n",
    "print (len(results))"
   ]
  },
  {
   "cell_type": "code",
   "execution_count": 19,
   "metadata": {},
   "outputs": [],
   "source": [
    "#Pass the tweets list to the above function to create a DataFrame\n",
    "DataSet = toDataFrame(results)"
   ]
  },
  {
   "cell_type": "code",
   "execution_count": 21,
   "metadata": {},
   "outputs": [
    {
     "data": {
      "text/html": [
       "<div>\n",
       "<style scoped>\n",
       "    .dataframe tbody tr th:only-of-type {\n",
       "        vertical-align: middle;\n",
       "    }\n",
       "\n",
       "    .dataframe tbody tr th {\n",
       "        vertical-align: top;\n",
       "    }\n",
       "\n",
       "    .dataframe thead th {\n",
       "        text-align: right;\n",
       "    }\n",
       "</style>\n",
       "<table border=\"1\" class=\"dataframe\">\n",
       "  <thead>\n",
       "    <tr style=\"text-align: right;\">\n",
       "      <th></th>\n",
       "      <th>tweetID</th>\n",
       "      <th>tweetText</th>\n",
       "      <th>tweetRetweetCt</th>\n",
       "      <th>tweetFavoriteCt</th>\n",
       "      <th>tweetSource</th>\n",
       "      <th>tweetCreated</th>\n",
       "      <th>userID</th>\n",
       "      <th>userScreen</th>\n",
       "      <th>userName</th>\n",
       "      <th>userCreateDt</th>\n",
       "      <th>userDesc</th>\n",
       "      <th>userFollowerCt</th>\n",
       "      <th>userFriendsCt</th>\n",
       "      <th>userLocation</th>\n",
       "      <th>userTimezone</th>\n",
       "    </tr>\n",
       "  </thead>\n",
       "  <tbody>\n",
       "    <tr>\n",
       "      <th>0</th>\n",
       "      <td>1143919690743341056</td>\n",
       "      <td>RT @softwhoseok: me explaining to namjoon and ...</td>\n",
       "      <td>169</td>\n",
       "      <td>0</td>\n",
       "      <td>Twitter for Android</td>\n",
       "      <td>2019-06-26 16:31:21</td>\n",
       "      <td>192224155</td>\n",
       "      <td>owenthesaintss</td>\n",
       "      <td>✨ hope right here✨</td>\n",
       "      <td>2010-09-18 14:48:44</td>\n",
       "      <td>FUCK your zodiac sign what’s your name what ex...</td>\n",
       "      <td>547</td>\n",
       "      <td>421</td>\n",
       "      <td></td>\n",
       "      <td>None</td>\n",
       "    </tr>\n",
       "    <tr>\n",
       "      <th>1</th>\n",
       "      <td>1143919690718334976</td>\n",
       "      <td>RT @agustshoongi: Me before #BTSWORLD: any one...</td>\n",
       "      <td>389</td>\n",
       "      <td>0</td>\n",
       "      <td>Twitter for Android</td>\n",
       "      <td>2019-06-26 16:31:21</td>\n",
       "      <td>1141749496755499011</td>\n",
       "      <td>reveluv_exe</td>\n",
       "      <td>Gabi$ 🤡 #ATEEZ2ndWin ಥ‿ಥ</td>\n",
       "      <td>2019-06-20 16:47:47</td>\n",
       "      <td>to__##JIMINIE : I will be your manager on bts ...</td>\n",
       "      <td>20</td>\n",
       "      <td>55</td>\n",
       "      <td>was created 20/06/19</td>\n",
       "      <td>None</td>\n",
       "    </tr>\n",
       "    <tr>\n",
       "      <th>2</th>\n",
       "      <td>1143919690407956483</td>\n",
       "      <td>RT @guroderes: i drew my personal interpretati...</td>\n",
       "      <td>3785</td>\n",
       "      <td>0</td>\n",
       "      <td>Twitter for iPhone</td>\n",
       "      <td>2019-06-26 16:31:21</td>\n",
       "      <td>3234322494</td>\n",
       "      <td>whozhaechann</td>\n",
       "      <td>ThaYsPetAcuLaR Viu o jk voando 25/05</td>\n",
       "      <td>2015-06-02 23:45:29</td>\n",
       "      <td>If teardrops could be bottled? 🥀{fã account} @...</td>\n",
       "      <td>7169</td>\n",
       "      <td>7142</td>\n",
       "      <td>Rio de Janeiro, Brasil</td>\n",
       "      <td>None</td>\n",
       "    </tr>\n",
       "    <tr>\n",
       "      <th>3</th>\n",
       "      <td>1143919689786990594</td>\n",
       "      <td>RT @btsworIdwide: #BTSWORLD Update:\\n\\nARMY: a...</td>\n",
       "      <td>263</td>\n",
       "      <td>0</td>\n",
       "      <td>Twitter Web App</td>\n",
       "      <td>2019-06-26 16:31:21</td>\n",
       "      <td>1127776211214655489</td>\n",
       "      <td>chilachiara</td>\n",
       "      <td>Chila</td>\n",
       "      <td>2019-05-13 03:22:56</td>\n",
       "      <td>I dont care</td>\n",
       "      <td>4</td>\n",
       "      <td>17</td>\n",
       "      <td></td>\n",
       "      <td>None</td>\n",
       "    </tr>\n",
       "    <tr>\n",
       "      <th>4</th>\n",
       "      <td>1143919689619398656</td>\n",
       "      <td>RT @sugasaward: Me chasing seokjin to audition...</td>\n",
       "      <td>1217</td>\n",
       "      <td>0</td>\n",
       "      <td>Twitter Web App</td>\n",
       "      <td>2019-06-26 16:31:21</td>\n",
       "      <td>1113918609275990016</td>\n",
       "      <td>LeilaXBangtan</td>\n",
       "      <td>Leila🔥</td>\n",
       "      <td>2019-04-04 21:37:46</td>\n",
       "      <td></td>\n",
       "      <td>716</td>\n",
       "      <td>4442</td>\n",
       "      <td></td>\n",
       "      <td>None</td>\n",
       "    </tr>\n",
       "  </tbody>\n",
       "</table>\n",
       "</div>"
      ],
      "text/plain": [
       "               tweetID                                          tweetText  \\\n",
       "0  1143919690743341056  RT @softwhoseok: me explaining to namjoon and ...   \n",
       "1  1143919690718334976  RT @agustshoongi: Me before #BTSWORLD: any one...   \n",
       "2  1143919690407956483  RT @guroderes: i drew my personal interpretati...   \n",
       "3  1143919689786990594  RT @btsworIdwide: #BTSWORLD Update:\\n\\nARMY: a...   \n",
       "4  1143919689619398656  RT @sugasaward: Me chasing seokjin to audition...   \n",
       "\n",
       "   tweetRetweetCt  tweetFavoriteCt          tweetSource        tweetCreated  \\\n",
       "0             169                0  Twitter for Android 2019-06-26 16:31:21   \n",
       "1             389                0  Twitter for Android 2019-06-26 16:31:21   \n",
       "2            3785                0   Twitter for iPhone 2019-06-26 16:31:21   \n",
       "3             263                0      Twitter Web App 2019-06-26 16:31:21   \n",
       "4            1217                0      Twitter Web App 2019-06-26 16:31:21   \n",
       "\n",
       "                userID      userScreen                              userName  \\\n",
       "0            192224155  owenthesaintss                    ✨ hope right here✨   \n",
       "1  1141749496755499011     reveluv_exe              Gabi$ 🤡 #ATEEZ2ndWin ಥ‿ಥ   \n",
       "2           3234322494    whozhaechann  ThaYsPetAcuLaR Viu o jk voando 25/05   \n",
       "3  1127776211214655489     chilachiara                                 Chila   \n",
       "4  1113918609275990016   LeilaXBangtan                                Leila🔥   \n",
       "\n",
       "         userCreateDt                                           userDesc  \\\n",
       "0 2010-09-18 14:48:44  FUCK your zodiac sign what’s your name what ex...   \n",
       "1 2019-06-20 16:47:47  to__##JIMINIE : I will be your manager on bts ...   \n",
       "2 2015-06-02 23:45:29  If teardrops could be bottled? 🥀{fã account} @...   \n",
       "3 2019-05-13 03:22:56                                        I dont care   \n",
       "4 2019-04-04 21:37:46                                                      \n",
       "\n",
       "   userFollowerCt  userFriendsCt            userLocation userTimezone  \n",
       "0             547            421                                 None  \n",
       "1              20             55    was created 20/06/19         None  \n",
       "2            7169           7142  Rio de Janeiro, Brasil         None  \n",
       "3               4             17                                 None  \n",
       "4             716           4442                                 None  "
      ]
     },
     "execution_count": 21,
     "metadata": {},
     "output_type": "execute_result"
    }
   ],
   "source": [
    "DataSet.head(5)"
   ]
  },
  {
   "cell_type": "code",
   "execution_count": 23,
   "metadata": {},
   "outputs": [],
   "source": [
    "DataSet.to_csv('tweeterDataset.csv')"
   ]
  },
  {
   "cell_type": "code",
   "execution_count": 56,
   "metadata": {},
   "outputs": [],
   "source": [
    "#Load Text data\n",
    "df = pd.read_csv(\"tweeterDataset.csv\")"
   ]
  },
  {
   "cell_type": "code",
   "execution_count": 57,
   "metadata": {},
   "outputs": [
    {
     "data": {
      "text/plain": [
       "Index(['Unnamed: 0', 'tweetID', 'tweetText', 'tweetRetweetCt',\n",
       "       'tweetFavoriteCt', 'tweetSource', 'tweetCreated', 'userID',\n",
       "       'userScreen', 'userName', 'userCreateDt', 'userDesc', 'userFollowerCt',\n",
       "       'userFriendsCt', 'userLocation', 'userTimezone'],\n",
       "      dtype='object')"
      ]
     },
     "execution_count": 57,
     "metadata": {},
     "output_type": "execute_result"
    }
   ],
   "source": [
    "df.columns"
   ]
  },
  {
   "cell_type": "code",
   "execution_count": 58,
   "metadata": {},
   "outputs": [],
   "source": [
    "# let's remove the features which are not required \n",
    "df = df.drop(['Unnamed: 0', 'tweetID', 'tweetSource', 'tweetCreated', 'userID',\n",
    "       'userScreen', 'userName', 'userCreateDt', 'userDesc', 'userLocation', 'userTimezone'],axis = 1)"
   ]
  },
  {
   "cell_type": "code",
   "execution_count": 59,
   "metadata": {},
   "outputs": [
    {
     "name": "stdout",
     "output_type": "stream",
     "text": [
      "<class 'pandas.core.frame.DataFrame'>\n",
      "RangeIndex: 1500 entries, 0 to 1499\n",
      "Data columns (total 5 columns):\n",
      "tweetText          1500 non-null object\n",
      "tweetRetweetCt     1500 non-null int64\n",
      "tweetFavoriteCt    1500 non-null int64\n",
      "userFollowerCt     1500 non-null int64\n",
      "userFriendsCt      1500 non-null int64\n",
      "dtypes: int64(4), object(1)\n",
      "memory usage: 58.7+ KB\n"
     ]
    }
   ],
   "source": [
    "df.info()"
   ]
  },
  {
   "cell_type": "code",
   "execution_count": 60,
   "metadata": {},
   "outputs": [
    {
     "data": {
      "text/html": [
       "<div>\n",
       "<style scoped>\n",
       "    .dataframe tbody tr th:only-of-type {\n",
       "        vertical-align: middle;\n",
       "    }\n",
       "\n",
       "    .dataframe tbody tr th {\n",
       "        vertical-align: top;\n",
       "    }\n",
       "\n",
       "    .dataframe thead th {\n",
       "        text-align: right;\n",
       "    }\n",
       "</style>\n",
       "<table border=\"1\" class=\"dataframe\">\n",
       "  <thead>\n",
       "    <tr style=\"text-align: right;\">\n",
       "      <th></th>\n",
       "      <th>tweetRetweetCt</th>\n",
       "      <th>tweetFavoriteCt</th>\n",
       "      <th>userFollowerCt</th>\n",
       "      <th>userFriendsCt</th>\n",
       "    </tr>\n",
       "  </thead>\n",
       "  <tbody>\n",
       "    <tr>\n",
       "      <th>count</th>\n",
       "      <td>1500.000000</td>\n",
       "      <td>1500.000000</td>\n",
       "      <td>1500.000000</td>\n",
       "      <td>1500.000000</td>\n",
       "    </tr>\n",
       "    <tr>\n",
       "      <th>mean</th>\n",
       "      <td>2148.734000</td>\n",
       "      <td>0.340667</td>\n",
       "      <td>1677.151333</td>\n",
       "      <td>615.463333</td>\n",
       "    </tr>\n",
       "    <tr>\n",
       "      <th>std</th>\n",
       "      <td>4266.458223</td>\n",
       "      <td>1.497367</td>\n",
       "      <td>17447.844231</td>\n",
       "      <td>1624.323517</td>\n",
       "    </tr>\n",
       "    <tr>\n",
       "      <th>min</th>\n",
       "      <td>0.000000</td>\n",
       "      <td>0.000000</td>\n",
       "      <td>0.000000</td>\n",
       "      <td>0.000000</td>\n",
       "    </tr>\n",
       "    <tr>\n",
       "      <th>25%</th>\n",
       "      <td>1.000000</td>\n",
       "      <td>0.000000</td>\n",
       "      <td>44.750000</td>\n",
       "      <td>95.000000</td>\n",
       "    </tr>\n",
       "    <tr>\n",
       "      <th>50%</th>\n",
       "      <td>186.000000</td>\n",
       "      <td>0.000000</td>\n",
       "      <td>179.000000</td>\n",
       "      <td>245.000000</td>\n",
       "    </tr>\n",
       "    <tr>\n",
       "      <th>75%</th>\n",
       "      <td>2832.250000</td>\n",
       "      <td>0.000000</td>\n",
       "      <td>576.750000</td>\n",
       "      <td>583.750000</td>\n",
       "    </tr>\n",
       "    <tr>\n",
       "      <th>max</th>\n",
       "      <td>21970.000000</td>\n",
       "      <td>30.000000</td>\n",
       "      <td>600867.000000</td>\n",
       "      <td>41975.000000</td>\n",
       "    </tr>\n",
       "  </tbody>\n",
       "</table>\n",
       "</div>"
      ],
      "text/plain": [
       "       tweetRetweetCt  tweetFavoriteCt  userFollowerCt  userFriendsCt\n",
       "count     1500.000000      1500.000000     1500.000000    1500.000000\n",
       "mean      2148.734000         0.340667     1677.151333     615.463333\n",
       "std       4266.458223         1.497367    17447.844231    1624.323517\n",
       "min          0.000000         0.000000        0.000000       0.000000\n",
       "25%          1.000000         0.000000       44.750000      95.000000\n",
       "50%        186.000000         0.000000      179.000000     245.000000\n",
       "75%       2832.250000         0.000000      576.750000     583.750000\n",
       "max      21970.000000        30.000000   600867.000000   41975.000000"
      ]
     },
     "execution_count": 60,
     "metadata": {},
     "output_type": "execute_result"
    }
   ],
   "source": [
    "df.describe()"
   ]
  },
  {
   "cell_type": "markdown",
   "metadata": {},
   "source": [
    "###### let' feature engineer features like : \n",
    "- Length of tweet (1 to 140 characters) \n",
    "- Average word length in tweet \n",
    "- Number of #hashtags \n",
    "- Number of @mentions \n",
    "- Number of links  "
   ]
  },
  {
   "cell_type": "code",
   "execution_count": 61,
   "metadata": {},
   "outputs": [],
   "source": [
    "def length_of_tweet(tweet):\n",
    "    return len(tweet)"
   ]
  },
  {
   "cell_type": "code",
   "execution_count": 62,
   "metadata": {},
   "outputs": [],
   "source": [
    "def avg_len(length):\n",
    "    return length/sum(df['length_of_tweet'])"
   ]
  },
  {
   "cell_type": "code",
   "execution_count": 63,
   "metadata": {},
   "outputs": [],
   "source": [
    "def num_hastags(tweet):\n",
    "    count = 0\n",
    "    words = tweet.split()\n",
    "    for word in words:\n",
    "        if word[:1] == '#' and len(word)>1:\n",
    "            count+=1\n",
    "    return count"
   ]
  },
  {
   "cell_type": "code",
   "execution_count": 64,
   "metadata": {},
   "outputs": [],
   "source": [
    "def num_mentions(tweet):\n",
    "    words = tweet.split()\n",
    "    count = 0\n",
    "    for word in words:\n",
    "        if word[:1] == '@' and len(word)>1:\n",
    "            count+=1\n",
    "    return count"
   ]
  },
  {
   "cell_type": "code",
   "execution_count": 65,
   "metadata": {},
   "outputs": [],
   "source": [
    "def num_links(tweet):\n",
    "    words = tweet.split()\n",
    "    count = 0\n",
    "    for word in words:\n",
    "        if word[:5] == 'https' and len(word)>5:\n",
    "            count+=1\n",
    "    return count"
   ]
  },
  {
   "cell_type": "code",
   "execution_count": 66,
   "metadata": {},
   "outputs": [],
   "source": [
    "df['num_links'] = df['tweetText'].apply(num_links)\n",
    "df['num_mentions'] = df['tweetText'].apply(num_mentions)\n",
    "df['num_hastags'] = df['tweetText'].apply(num_hastags)\n",
    "df['length_of_tweet'] = df['tweetText'].apply(length_of_tweet)\n",
    "df['avg_len'] = df['length_of_tweet'].apply(avg_len)"
   ]
  },
  {
   "cell_type": "code",
   "execution_count": 67,
   "metadata": {
    "scrolled": true
   },
   "outputs": [
    {
     "data": {
      "text/html": [
       "<div>\n",
       "<style scoped>\n",
       "    .dataframe tbody tr th:only-of-type {\n",
       "        vertical-align: middle;\n",
       "    }\n",
       "\n",
       "    .dataframe tbody tr th {\n",
       "        vertical-align: top;\n",
       "    }\n",
       "\n",
       "    .dataframe thead th {\n",
       "        text-align: right;\n",
       "    }\n",
       "</style>\n",
       "<table border=\"1\" class=\"dataframe\">\n",
       "  <thead>\n",
       "    <tr style=\"text-align: right;\">\n",
       "      <th></th>\n",
       "      <th>tweetText</th>\n",
       "      <th>tweetRetweetCt</th>\n",
       "      <th>tweetFavoriteCt</th>\n",
       "      <th>userFollowerCt</th>\n",
       "      <th>userFriendsCt</th>\n",
       "      <th>num_links</th>\n",
       "      <th>num_mentions</th>\n",
       "      <th>num_hastags</th>\n",
       "      <th>length_of_tweet</th>\n",
       "      <th>avg_len</th>\n",
       "    </tr>\n",
       "  </thead>\n",
       "  <tbody>\n",
       "    <tr>\n",
       "      <th>0</th>\n",
       "      <td>RT @softwhoseok: me explaining to namjoon and ...</td>\n",
       "      <td>169</td>\n",
       "      <td>0</td>\n",
       "      <td>547</td>\n",
       "      <td>421</td>\n",
       "      <td>1</td>\n",
       "      <td>1</td>\n",
       "      <td>1</td>\n",
       "      <td>140</td>\n",
       "      <td>0.000791</td>\n",
       "    </tr>\n",
       "    <tr>\n",
       "      <th>1</th>\n",
       "      <td>RT @agustshoongi: Me before #BTSWORLD: any one...</td>\n",
       "      <td>389</td>\n",
       "      <td>0</td>\n",
       "      <td>20</td>\n",
       "      <td>55</td>\n",
       "      <td>0</td>\n",
       "      <td>1</td>\n",
       "      <td>1</td>\n",
       "      <td>140</td>\n",
       "      <td>0.000791</td>\n",
       "    </tr>\n",
       "    <tr>\n",
       "      <th>2</th>\n",
       "      <td>RT @guroderes: i drew my personal interpretati...</td>\n",
       "      <td>3785</td>\n",
       "      <td>0</td>\n",
       "      <td>7169</td>\n",
       "      <td>7142</td>\n",
       "      <td>1</td>\n",
       "      <td>1</td>\n",
       "      <td>2</td>\n",
       "      <td>121</td>\n",
       "      <td>0.000684</td>\n",
       "    </tr>\n",
       "    <tr>\n",
       "      <th>3</th>\n",
       "      <td>RT @btsworIdwide: #BTSWORLD Update:\\n\\nARMY: a...</td>\n",
       "      <td>263</td>\n",
       "      <td>0</td>\n",
       "      <td>4</td>\n",
       "      <td>17</td>\n",
       "      <td>0</td>\n",
       "      <td>1</td>\n",
       "      <td>2</td>\n",
       "      <td>140</td>\n",
       "      <td>0.000791</td>\n",
       "    </tr>\n",
       "    <tr>\n",
       "      <th>4</th>\n",
       "      <td>RT @sugasaward: Me chasing seokjin to audition...</td>\n",
       "      <td>1217</td>\n",
       "      <td>0</td>\n",
       "      <td>716</td>\n",
       "      <td>4442</td>\n",
       "      <td>1</td>\n",
       "      <td>1</td>\n",
       "      <td>1</td>\n",
       "      <td>93</td>\n",
       "      <td>0.000525</td>\n",
       "    </tr>\n",
       "  </tbody>\n",
       "</table>\n",
       "</div>"
      ],
      "text/plain": [
       "                                           tweetText  tweetRetweetCt  \\\n",
       "0  RT @softwhoseok: me explaining to namjoon and ...             169   \n",
       "1  RT @agustshoongi: Me before #BTSWORLD: any one...             389   \n",
       "2  RT @guroderes: i drew my personal interpretati...            3785   \n",
       "3  RT @btsworIdwide: #BTSWORLD Update:\\n\\nARMY: a...             263   \n",
       "4  RT @sugasaward: Me chasing seokjin to audition...            1217   \n",
       "\n",
       "   tweetFavoriteCt  userFollowerCt  userFriendsCt  num_links  num_mentions  \\\n",
       "0                0             547            421          1             1   \n",
       "1                0              20             55          0             1   \n",
       "2                0            7169           7142          1             1   \n",
       "3                0               4             17          0             1   \n",
       "4                0             716           4442          1             1   \n",
       "\n",
       "   num_hastags  length_of_tweet   avg_len  \n",
       "0            1              140  0.000791  \n",
       "1            1              140  0.000791  \n",
       "2            2              121  0.000684  \n",
       "3            2              140  0.000791  \n",
       "4            1               93  0.000525  "
      ]
     },
     "execution_count": 67,
     "metadata": {},
     "output_type": "execute_result"
    }
   ],
   "source": [
    "df.head()"
   ]
  },
  {
   "cell_type": "code",
   "execution_count": 68,
   "metadata": {},
   "outputs": [
    {
     "data": {
      "text/html": [
       "<div>\n",
       "<style scoped>\n",
       "    .dataframe tbody tr th:only-of-type {\n",
       "        vertical-align: middle;\n",
       "    }\n",
       "\n",
       "    .dataframe tbody tr th {\n",
       "        vertical-align: top;\n",
       "    }\n",
       "\n",
       "    .dataframe thead th {\n",
       "        text-align: right;\n",
       "    }\n",
       "</style>\n",
       "<table border=\"1\" class=\"dataframe\">\n",
       "  <thead>\n",
       "    <tr style=\"text-align: right;\">\n",
       "      <th></th>\n",
       "      <th>tweetRetweetCt</th>\n",
       "      <th>tweetFavoriteCt</th>\n",
       "      <th>userFollowerCt</th>\n",
       "      <th>userFriendsCt</th>\n",
       "      <th>num_links</th>\n",
       "      <th>num_mentions</th>\n",
       "      <th>num_hastags</th>\n",
       "      <th>length_of_tweet</th>\n",
       "      <th>avg_len</th>\n",
       "    </tr>\n",
       "  </thead>\n",
       "  <tbody>\n",
       "    <tr>\n",
       "      <th>count</th>\n",
       "      <td>1500.000000</td>\n",
       "      <td>1500.000000</td>\n",
       "      <td>1500.000000</td>\n",
       "      <td>1500.000000</td>\n",
       "      <td>1500.000000</td>\n",
       "      <td>1500.000000</td>\n",
       "      <td>1500.000000</td>\n",
       "      <td>1500.000000</td>\n",
       "      <td>1500.000000</td>\n",
       "    </tr>\n",
       "    <tr>\n",
       "      <th>mean</th>\n",
       "      <td>2148.734000</td>\n",
       "      <td>0.340667</td>\n",
       "      <td>1677.151333</td>\n",
       "      <td>615.463333</td>\n",
       "      <td>0.485333</td>\n",
       "      <td>1.090667</td>\n",
       "      <td>1.922000</td>\n",
       "      <td>117.985333</td>\n",
       "      <td>0.000667</td>\n",
       "    </tr>\n",
       "    <tr>\n",
       "      <th>std</th>\n",
       "      <td>4266.458223</td>\n",
       "      <td>1.497367</td>\n",
       "      <td>17447.844231</td>\n",
       "      <td>1624.323517</td>\n",
       "      <td>0.506579</td>\n",
       "      <td>0.737660</td>\n",
       "      <td>1.717134</td>\n",
       "      <td>30.023958</td>\n",
       "      <td>0.000170</td>\n",
       "    </tr>\n",
       "    <tr>\n",
       "      <th>min</th>\n",
       "      <td>0.000000</td>\n",
       "      <td>0.000000</td>\n",
       "      <td>0.000000</td>\n",
       "      <td>0.000000</td>\n",
       "      <td>0.000000</td>\n",
       "      <td>0.000000</td>\n",
       "      <td>0.000000</td>\n",
       "      <td>16.000000</td>\n",
       "      <td>0.000090</td>\n",
       "    </tr>\n",
       "    <tr>\n",
       "      <th>25%</th>\n",
       "      <td>1.000000</td>\n",
       "      <td>0.000000</td>\n",
       "      <td>44.750000</td>\n",
       "      <td>95.000000</td>\n",
       "      <td>0.000000</td>\n",
       "      <td>1.000000</td>\n",
       "      <td>1.000000</td>\n",
       "      <td>100.000000</td>\n",
       "      <td>0.000565</td>\n",
       "    </tr>\n",
       "    <tr>\n",
       "      <th>50%</th>\n",
       "      <td>186.000000</td>\n",
       "      <td>0.000000</td>\n",
       "      <td>179.000000</td>\n",
       "      <td>245.000000</td>\n",
       "      <td>0.000000</td>\n",
       "      <td>1.000000</td>\n",
       "      <td>1.000000</td>\n",
       "      <td>139.000000</td>\n",
       "      <td>0.000785</td>\n",
       "    </tr>\n",
       "    <tr>\n",
       "      <th>75%</th>\n",
       "      <td>2832.250000</td>\n",
       "      <td>0.000000</td>\n",
       "      <td>576.750000</td>\n",
       "      <td>583.750000</td>\n",
       "      <td>1.000000</td>\n",
       "      <td>2.000000</td>\n",
       "      <td>3.000000</td>\n",
       "      <td>140.000000</td>\n",
       "      <td>0.000791</td>\n",
       "    </tr>\n",
       "    <tr>\n",
       "      <th>max</th>\n",
       "      <td>21970.000000</td>\n",
       "      <td>30.000000</td>\n",
       "      <td>600867.000000</td>\n",
       "      <td>41975.000000</td>\n",
       "      <td>2.000000</td>\n",
       "      <td>6.000000</td>\n",
       "      <td>8.000000</td>\n",
       "      <td>146.000000</td>\n",
       "      <td>0.000825</td>\n",
       "    </tr>\n",
       "  </tbody>\n",
       "</table>\n",
       "</div>"
      ],
      "text/plain": [
       "       tweetRetweetCt  tweetFavoriteCt  userFollowerCt  userFriendsCt  \\\n",
       "count     1500.000000      1500.000000     1500.000000    1500.000000   \n",
       "mean      2148.734000         0.340667     1677.151333     615.463333   \n",
       "std       4266.458223         1.497367    17447.844231    1624.323517   \n",
       "min          0.000000         0.000000        0.000000       0.000000   \n",
       "25%          1.000000         0.000000       44.750000      95.000000   \n",
       "50%        186.000000         0.000000      179.000000     245.000000   \n",
       "75%       2832.250000         0.000000      576.750000     583.750000   \n",
       "max      21970.000000        30.000000   600867.000000   41975.000000   \n",
       "\n",
       "         num_links  num_mentions  num_hastags  length_of_tweet      avg_len  \n",
       "count  1500.000000   1500.000000  1500.000000      1500.000000  1500.000000  \n",
       "mean      0.485333      1.090667     1.922000       117.985333     0.000667  \n",
       "std       0.506579      0.737660     1.717134        30.023958     0.000170  \n",
       "min       0.000000      0.000000     0.000000        16.000000     0.000090  \n",
       "25%       0.000000      1.000000     1.000000       100.000000     0.000565  \n",
       "50%       0.000000      1.000000     1.000000       139.000000     0.000785  \n",
       "75%       1.000000      2.000000     3.000000       140.000000     0.000791  \n",
       "max       2.000000      6.000000     8.000000       146.000000     0.000825  "
      ]
     },
     "execution_count": 68,
     "metadata": {},
     "output_type": "execute_result"
    }
   ],
   "source": [
    "df.describe()"
   ]
  },
  {
   "cell_type": "code",
   "execution_count": 69,
   "metadata": {
    "scrolled": true
   },
   "outputs": [
    {
     "name": "stdout",
     "output_type": "stream",
     "text": [
      "<class 'pandas.core.frame.DataFrame'>\n",
      "RangeIndex: 1500 entries, 0 to 1499\n",
      "Data columns (total 10 columns):\n",
      "tweetText          1500 non-null object\n",
      "tweetRetweetCt     1500 non-null int64\n",
      "tweetFavoriteCt    1500 non-null int64\n",
      "userFollowerCt     1500 non-null int64\n",
      "userFriendsCt      1500 non-null int64\n",
      "num_links          1500 non-null int64\n",
      "num_mentions       1500 non-null int64\n",
      "num_hastags        1500 non-null int64\n",
      "length_of_tweet    1500 non-null int64\n",
      "avg_len            1500 non-null float64\n",
      "dtypes: float64(1), int64(8), object(1)\n",
      "memory usage: 117.3+ KB\n"
     ]
    }
   ],
   "source": [
    "df.info()"
   ]
  },
  {
   "cell_type": "code",
   "execution_count": 70,
   "metadata": {},
   "outputs": [],
   "source": [
    "df.fillna(0, inplace=True)"
   ]
  },
  {
   "cell_type": "code",
   "execution_count": 71,
   "metadata": {},
   "outputs": [
    {
     "data": {
      "image/png": "[encoded data removed]",
      "text/plain": [
       "<Figure size 1080x1080 with 2 Axes>"
      ]
     },
     "metadata": {
      "needs_background": "light"
     },
     "output_type": "display_data"
    }
   ],
   "source": [
    "# heatmap using correlation matrix\n",
    "plt.figure(figsize=(15,15))\n",
    "_ = sns.heatmap(df[['tweetRetweetCt','tweetFavoriteCt','userFollowerCt','userFriendsCt','num_links','num_mentions','num_hastags','length_of_tweet','avg_len']].corr(), square=True, cmap='RdYlGn',linewidths=0.5,linecolor='w',annot=True)\n",
    "plt.title('Correlation matrix ')\n",
    "# plt.savefig('correlation.png')\n",
    "plt.show()"
   ]
  },
  {
   "cell_type": "code",
   "execution_count": 72,
   "metadata": {},
   "outputs": [],
   "source": [
    "df = df.drop(['length_of_tweet'],axis = 1)"
   ]
  },
  {
   "cell_type": "code",
   "execution_count": 73,
   "metadata": {
    "scrolled": true
   },
   "outputs": [
    {
     "data": {
      "text/html": [
       "<div>\n",
       "<style scoped>\n",
       "    .dataframe tbody tr th:only-of-type {\n",
       "        vertical-align: middle;\n",
       "    }\n",
       "\n",
       "    .dataframe tbody tr th {\n",
       "        vertical-align: top;\n",
       "    }\n",
       "\n",
       "    .dataframe thead th {\n",
       "        text-align: right;\n",
       "    }\n",
       "</style>\n",
       "<table border=\"1\" class=\"dataframe\">\n",
       "  <thead>\n",
       "    <tr style=\"text-align: right;\">\n",
       "      <th></th>\n",
       "      <th>tweetText</th>\n",
       "      <th>tweetRetweetCt</th>\n",
       "      <th>tweetFavoriteCt</th>\n",
       "      <th>userFollowerCt</th>\n",
       "      <th>userFriendsCt</th>\n",
       "      <th>num_links</th>\n",
       "      <th>num_mentions</th>\n",
       "      <th>num_hastags</th>\n",
       "      <th>avg_len</th>\n",
       "    </tr>\n",
       "  </thead>\n",
       "  <tbody>\n",
       "    <tr>\n",
       "      <th>0</th>\n",
       "      <td>RT @softwhoseok: me explaining to namjoon and ...</td>\n",
       "      <td>169</td>\n",
       "      <td>0</td>\n",
       "      <td>547</td>\n",
       "      <td>421</td>\n",
       "      <td>1</td>\n",
       "      <td>1</td>\n",
       "      <td>1</td>\n",
       "      <td>0.000791</td>\n",
       "    </tr>\n",
       "    <tr>\n",
       "      <th>1</th>\n",
       "      <td>RT @agustshoongi: Me before #BTSWORLD: any one...</td>\n",
       "      <td>389</td>\n",
       "      <td>0</td>\n",
       "      <td>20</td>\n",
       "      <td>55</td>\n",
       "      <td>0</td>\n",
       "      <td>1</td>\n",
       "      <td>1</td>\n",
       "      <td>0.000791</td>\n",
       "    </tr>\n",
       "    <tr>\n",
       "      <th>2</th>\n",
       "      <td>RT @guroderes: i drew my personal interpretati...</td>\n",
       "      <td>3785</td>\n",
       "      <td>0</td>\n",
       "      <td>7169</td>\n",
       "      <td>7142</td>\n",
       "      <td>1</td>\n",
       "      <td>1</td>\n",
       "      <td>2</td>\n",
       "      <td>0.000684</td>\n",
       "    </tr>\n",
       "    <tr>\n",
       "      <th>3</th>\n",
       "      <td>RT @btsworIdwide: #BTSWORLD Update:\\n\\nARMY: a...</td>\n",
       "      <td>263</td>\n",
       "      <td>0</td>\n",
       "      <td>4</td>\n",
       "      <td>17</td>\n",
       "      <td>0</td>\n",
       "      <td>1</td>\n",
       "      <td>2</td>\n",
       "      <td>0.000791</td>\n",
       "    </tr>\n",
       "    <tr>\n",
       "      <th>4</th>\n",
       "      <td>RT @sugasaward: Me chasing seokjin to audition...</td>\n",
       "      <td>1217</td>\n",
       "      <td>0</td>\n",
       "      <td>716</td>\n",
       "      <td>4442</td>\n",
       "      <td>1</td>\n",
       "      <td>1</td>\n",
       "      <td>1</td>\n",
       "      <td>0.000525</td>\n",
       "    </tr>\n",
       "  </tbody>\n",
       "</table>\n",
       "</div>"
      ],
      "text/plain": [
       "                                           tweetText  tweetRetweetCt  \\\n",
       "0  RT @softwhoseok: me explaining to namjoon and ...             169   \n",
       "1  RT @agustshoongi: Me before #BTSWORLD: any one...             389   \n",
       "2  RT @guroderes: i drew my personal interpretati...            3785   \n",
       "3  RT @btsworIdwide: #BTSWORLD Update:\\n\\nARMY: a...             263   \n",
       "4  RT @sugasaward: Me chasing seokjin to audition...            1217   \n",
       "\n",
       "   tweetFavoriteCt  userFollowerCt  userFriendsCt  num_links  num_mentions  \\\n",
       "0                0             547            421          1             1   \n",
       "1                0              20             55          0             1   \n",
       "2                0            7169           7142          1             1   \n",
       "3                0               4             17          0             1   \n",
       "4                0             716           4442          1             1   \n",
       "\n",
       "   num_hastags   avg_len  \n",
       "0            1  0.000791  \n",
       "1            1  0.000791  \n",
       "2            2  0.000684  \n",
       "3            2  0.000791  \n",
       "4            1  0.000525  "
      ]
     },
     "execution_count": 73,
     "metadata": {},
     "output_type": "execute_result"
    }
   ],
   "source": [
    "df.head()"
   ]
  },
  {
   "cell_type": "code",
   "execution_count": 74,
   "metadata": {},
   "outputs": [],
   "source": [
    "df['score'] = df['tweetRetweetCt']+df['tweetFavoriteCt']+df['userFollowerCt']+df['userFriendsCt']+df['num_links']+df['num_mentions']+df['num_hastags']+df['avg_len']"
   ]
  },
  {
   "cell_type": "code",
   "execution_count": 75,
   "metadata": {},
   "outputs": [],
   "source": [
    "# Normalizing score values in range 0 to 100\n",
    "df['score'] = (df['score'] - min(df['score']))/(max(df['score']) - min(df['score']))*100"
   ]
  },
  {
   "cell_type": "code",
   "execution_count": 76,
   "metadata": {
    "scrolled": true
   },
   "outputs": [
    {
     "data": {
      "text/html": [
       "<div>\n",
       "<style scoped>\n",
       "    .dataframe tbody tr th:only-of-type {\n",
       "        vertical-align: middle;\n",
       "    }\n",
       "\n",
       "    .dataframe tbody tr th {\n",
       "        vertical-align: top;\n",
       "    }\n",
       "\n",
       "    .dataframe thead th {\n",
       "        text-align: right;\n",
       "    }\n",
       "</style>\n",
       "<table border=\"1\" class=\"dataframe\">\n",
       "  <thead>\n",
       "    <tr style=\"text-align: right;\">\n",
       "      <th></th>\n",
       "      <th>tweetText</th>\n",
       "      <th>tweetRetweetCt</th>\n",
       "      <th>tweetFavoriteCt</th>\n",
       "      <th>userFollowerCt</th>\n",
       "      <th>userFriendsCt</th>\n",
       "      <th>num_links</th>\n",
       "      <th>num_mentions</th>\n",
       "      <th>num_hastags</th>\n",
       "      <th>avg_len</th>\n",
       "      <th>score</th>\n",
       "    </tr>\n",
       "  </thead>\n",
       "  <tbody>\n",
       "    <tr>\n",
       "      <th>0</th>\n",
       "      <td>RT @softwhoseok: me explaining to namjoon and ...</td>\n",
       "      <td>169</td>\n",
       "      <td>0</td>\n",
       "      <td>547</td>\n",
       "      <td>421</td>\n",
       "      <td>1</td>\n",
       "      <td>1</td>\n",
       "      <td>1</td>\n",
       "      <td>0.000791</td>\n",
       "      <td>0.189388</td>\n",
       "    </tr>\n",
       "    <tr>\n",
       "      <th>1</th>\n",
       "      <td>RT @agustshoongi: Me before #BTSWORLD: any one...</td>\n",
       "      <td>389</td>\n",
       "      <td>0</td>\n",
       "      <td>20</td>\n",
       "      <td>55</td>\n",
       "      <td>0</td>\n",
       "      <td>1</td>\n",
       "      <td>1</td>\n",
       "      <td>0.000791</td>\n",
       "      <td>0.077220</td>\n",
       "    </tr>\n",
       "    <tr>\n",
       "      <th>2</th>\n",
       "      <td>RT @guroderes: i drew my personal interpretati...</td>\n",
       "      <td>3785</td>\n",
       "      <td>0</td>\n",
       "      <td>7169</td>\n",
       "      <td>7142</td>\n",
       "      <td>1</td>\n",
       "      <td>1</td>\n",
       "      <td>2</td>\n",
       "      <td>0.000684</td>\n",
       "      <td>3.011906</td>\n",
       "    </tr>\n",
       "    <tr>\n",
       "      <th>3</th>\n",
       "      <td>RT @btsworIdwide: #BTSWORLD Update:\\n\\nARMY: a...</td>\n",
       "      <td>263</td>\n",
       "      <td>0</td>\n",
       "      <td>4</td>\n",
       "      <td>17</td>\n",
       "      <td>0</td>\n",
       "      <td>1</td>\n",
       "      <td>2</td>\n",
       "      <td>0.000791</td>\n",
       "      <td>0.047430</td>\n",
       "    </tr>\n",
       "    <tr>\n",
       "      <th>4</th>\n",
       "      <td>RT @sugasaward: Me chasing seokjin to audition...</td>\n",
       "      <td>1217</td>\n",
       "      <td>0</td>\n",
       "      <td>716</td>\n",
       "      <td>4442</td>\n",
       "      <td>1</td>\n",
       "      <td>1</td>\n",
       "      <td>1</td>\n",
       "      <td>0.000525</td>\n",
       "      <td>1.061107</td>\n",
       "    </tr>\n",
       "  </tbody>\n",
       "</table>\n",
       "</div>"
      ],
      "text/plain": [
       "                                           tweetText  tweetRetweetCt  \\\n",
       "0  RT @softwhoseok: me explaining to namjoon and ...             169   \n",
       "1  RT @agustshoongi: Me before #BTSWORLD: any one...             389   \n",
       "2  RT @guroderes: i drew my personal interpretati...            3785   \n",
       "3  RT @btsworIdwide: #BTSWORLD Update:\\n\\nARMY: a...             263   \n",
       "4  RT @sugasaward: Me chasing seokjin to audition...            1217   \n",
       "\n",
       "   tweetFavoriteCt  userFollowerCt  userFriendsCt  num_links  num_mentions  \\\n",
       "0                0             547            421          1             1   \n",
       "1                0              20             55          0             1   \n",
       "2                0            7169           7142          1             1   \n",
       "3                0               4             17          0             1   \n",
       "4                0             716           4442          1             1   \n",
       "\n",
       "   num_hastags   avg_len     score  \n",
       "0            1  0.000791  0.189388  \n",
       "1            1  0.000791  0.077220  \n",
       "2            2  0.000684  3.011906  \n",
       "3            2  0.000791  0.047430  \n",
       "4            1  0.000525  1.061107  "
      ]
     },
     "execution_count": 76,
     "metadata": {},
     "output_type": "execute_result"
    }
   ],
   "source": [
    "df.head()"
   ]
  },
  {
   "cell_type": "code",
   "execution_count": 77,
   "metadata": {},
   "outputs": [
    {
     "data": {
      "text/html": [
       "<div>\n",
       "<style scoped>\n",
       "    .dataframe tbody tr th:only-of-type {\n",
       "        vertical-align: middle;\n",
       "    }\n",
       "\n",
       "    .dataframe tbody tr th {\n",
       "        vertical-align: top;\n",
       "    }\n",
       "\n",
       "    .dataframe thead th {\n",
       "        text-align: right;\n",
       "    }\n",
       "</style>\n",
       "<table border=\"1\" class=\"dataframe\">\n",
       "  <thead>\n",
       "    <tr style=\"text-align: right;\">\n",
       "      <th></th>\n",
       "      <th>tweetRetweetCt</th>\n",
       "      <th>tweetFavoriteCt</th>\n",
       "      <th>userFollowerCt</th>\n",
       "      <th>userFriendsCt</th>\n",
       "      <th>num_links</th>\n",
       "      <th>num_mentions</th>\n",
       "      <th>num_hastags</th>\n",
       "      <th>avg_len</th>\n",
       "      <th>score</th>\n",
       "    </tr>\n",
       "  </thead>\n",
       "  <tbody>\n",
       "    <tr>\n",
       "      <th>count</th>\n",
       "      <td>1500.000000</td>\n",
       "      <td>1500.000000</td>\n",
       "      <td>1500.000000</td>\n",
       "      <td>1500.000000</td>\n",
       "      <td>1500.000000</td>\n",
       "      <td>1500.000000</td>\n",
       "      <td>1500.000000</td>\n",
       "      <td>1500.000000</td>\n",
       "      <td>1500.000000</td>\n",
       "    </tr>\n",
       "    <tr>\n",
       "      <th>mean</th>\n",
       "      <td>2148.734000</td>\n",
       "      <td>0.340667</td>\n",
       "      <td>1677.151333</td>\n",
       "      <td>615.463333</td>\n",
       "      <td>0.485333</td>\n",
       "      <td>1.090667</td>\n",
       "      <td>1.922000</td>\n",
       "      <td>0.000667</td>\n",
       "      <td>0.739444</td>\n",
       "    </tr>\n",
       "    <tr>\n",
       "      <th>std</th>\n",
       "      <td>4266.458223</td>\n",
       "      <td>1.497367</td>\n",
       "      <td>17447.844231</td>\n",
       "      <td>1624.323517</td>\n",
       "      <td>0.506579</td>\n",
       "      <td>0.737660</td>\n",
       "      <td>1.717134</td>\n",
       "      <td>0.000170</td>\n",
       "      <td>2.998038</td>\n",
       "    </tr>\n",
       "    <tr>\n",
       "      <th>min</th>\n",
       "      <td>0.000000</td>\n",
       "      <td>0.000000</td>\n",
       "      <td>0.000000</td>\n",
       "      <td>0.000000</td>\n",
       "      <td>0.000000</td>\n",
       "      <td>0.000000</td>\n",
       "      <td>0.000000</td>\n",
       "      <td>0.000090</td>\n",
       "      <td>0.000000</td>\n",
       "    </tr>\n",
       "    <tr>\n",
       "      <th>25%</th>\n",
       "      <td>1.000000</td>\n",
       "      <td>0.000000</td>\n",
       "      <td>44.750000</td>\n",
       "      <td>95.000000</td>\n",
       "      <td>0.000000</td>\n",
       "      <td>1.000000</td>\n",
       "      <td>1.000000</td>\n",
       "      <td>0.000565</td>\n",
       "      <td>0.076180</td>\n",
       "    </tr>\n",
       "    <tr>\n",
       "      <th>50%</th>\n",
       "      <td>186.000000</td>\n",
       "      <td>0.000000</td>\n",
       "      <td>179.000000</td>\n",
       "      <td>245.000000</td>\n",
       "      <td>0.000000</td>\n",
       "      <td>1.000000</td>\n",
       "      <td>1.000000</td>\n",
       "      <td>0.000785</td>\n",
       "      <td>0.240896</td>\n",
       "    </tr>\n",
       "    <tr>\n",
       "      <th>75%</th>\n",
       "      <td>2832.250000</td>\n",
       "      <td>0.000000</td>\n",
       "      <td>576.750000</td>\n",
       "      <td>583.750000</td>\n",
       "      <td>1.000000</td>\n",
       "      <td>2.000000</td>\n",
       "      <td>3.000000</td>\n",
       "      <td>0.000791</td>\n",
       "      <td>0.704173</td>\n",
       "    </tr>\n",
       "    <tr>\n",
       "      <th>max</th>\n",
       "      <td>21970.000000</td>\n",
       "      <td>30.000000</td>\n",
       "      <td>600867.000000</td>\n",
       "      <td>41975.000000</td>\n",
       "      <td>2.000000</td>\n",
       "      <td>6.000000</td>\n",
       "      <td>8.000000</td>\n",
       "      <td>0.000825</td>\n",
       "      <td>100.000000</td>\n",
       "    </tr>\n",
       "  </tbody>\n",
       "</table>\n",
       "</div>"
      ],
      "text/plain": [
       "       tweetRetweetCt  tweetFavoriteCt  userFollowerCt  userFriendsCt  \\\n",
       "count     1500.000000      1500.000000     1500.000000    1500.000000   \n",
       "mean      2148.734000         0.340667     1677.151333     615.463333   \n",
       "std       4266.458223         1.497367    17447.844231    1624.323517   \n",
       "min          0.000000         0.000000        0.000000       0.000000   \n",
       "25%          1.000000         0.000000       44.750000      95.000000   \n",
       "50%        186.000000         0.000000      179.000000     245.000000   \n",
       "75%       2832.250000         0.000000      576.750000     583.750000   \n",
       "max      21970.000000        30.000000   600867.000000   41975.000000   \n",
       "\n",
       "         num_links  num_mentions  num_hastags      avg_len        score  \n",
       "count  1500.000000   1500.000000  1500.000000  1500.000000  1500.000000  \n",
       "mean      0.485333      1.090667     1.922000     0.000667     0.739444  \n",
       "std       0.506579      0.737660     1.717134     0.000170     2.998038  \n",
       "min       0.000000      0.000000     0.000000     0.000090     0.000000  \n",
       "25%       0.000000      1.000000     1.000000     0.000565     0.076180  \n",
       "50%       0.000000      1.000000     1.000000     0.000785     0.240896  \n",
       "75%       1.000000      2.000000     3.000000     0.000791     0.704173  \n",
       "max       2.000000      6.000000     8.000000     0.000825   100.000000  "
      ]
     },
     "execution_count": 77,
     "metadata": {},
     "output_type": "execute_result"
    }
   ],
   "source": [
    "df.describe()"
   ]
  },
  {
   "cell_type": "code",
   "execution_count": 78,
   "metadata": {},
   "outputs": [],
   "source": [
    "df.drop(df.columns.difference(['tweetText','score']), 1, inplace=True)"
   ]
  },
  {
   "cell_type": "code",
   "execution_count": 79,
   "metadata": {},
   "outputs": [
    {
     "data": {
      "text/html": [
       "<div>\n",
       "<style scoped>\n",
       "    .dataframe tbody tr th:only-of-type {\n",
       "        vertical-align: middle;\n",
       "    }\n",
       "\n",
       "    .dataframe tbody tr th {\n",
       "        vertical-align: top;\n",
       "    }\n",
       "\n",
       "    .dataframe thead th {\n",
       "        text-align: right;\n",
       "    }\n",
       "</style>\n",
       "<table border=\"1\" class=\"dataframe\">\n",
       "  <thead>\n",
       "    <tr style=\"text-align: right;\">\n",
       "      <th></th>\n",
       "      <th>tweetText</th>\n",
       "      <th>score</th>\n",
       "    </tr>\n",
       "  </thead>\n",
       "  <tbody>\n",
       "    <tr>\n",
       "      <th>0</th>\n",
       "      <td>RT @softwhoseok: me explaining to namjoon and ...</td>\n",
       "      <td>0.189388</td>\n",
       "    </tr>\n",
       "    <tr>\n",
       "      <th>1</th>\n",
       "      <td>RT @agustshoongi: Me before #BTSWORLD: any one...</td>\n",
       "      <td>0.077220</td>\n",
       "    </tr>\n",
       "    <tr>\n",
       "      <th>2</th>\n",
       "      <td>RT @guroderes: i drew my personal interpretati...</td>\n",
       "      <td>3.011906</td>\n",
       "    </tr>\n",
       "    <tr>\n",
       "      <th>3</th>\n",
       "      <td>RT @btsworIdwide: #BTSWORLD Update:\\n\\nARMY: a...</td>\n",
       "      <td>0.047430</td>\n",
       "    </tr>\n",
       "    <tr>\n",
       "      <th>4</th>\n",
       "      <td>RT @sugasaward: Me chasing seokjin to audition...</td>\n",
       "      <td>1.061107</td>\n",
       "    </tr>\n",
       "  </tbody>\n",
       "</table>\n",
       "</div>"
      ],
      "text/plain": [
       "                                           tweetText     score\n",
       "0  RT @softwhoseok: me explaining to namjoon and ...  0.189388\n",
       "1  RT @agustshoongi: Me before #BTSWORLD: any one...  0.077220\n",
       "2  RT @guroderes: i drew my personal interpretati...  3.011906\n",
       "3  RT @btsworIdwide: #BTSWORLD Update:\\n\\nARMY: a...  0.047430\n",
       "4  RT @sugasaward: Me chasing seokjin to audition...  1.061107"
      ]
     },
     "execution_count": 79,
     "metadata": {},
     "output_type": "execute_result"
    }
   ],
   "source": [
    "df.head()"
   ]
  },
  {
   "cell_type": "code",
   "execution_count": 80,
   "metadata": {},
   "outputs": [],
   "source": [
    "# create the nlp object using Spacy's English language class\n",
    "nlp = English()"
   ]
  },
  {
   "cell_type": "code",
   "execution_count": 81,
   "metadata": {},
   "outputs": [],
   "source": [
    "# Creating our tokenizer function\n",
    "def spacy_tokenizer(sentence):\n",
    "    # Creating our token object, which is used to create documents with linguistic annotations.\n",
    "    mytokens = nlp(sentence)\n",
    "\n",
    "    # here the token is converted into lowercase if it is a Pronoun and if it is not a Pronoun then it is lemmatized and lowercased    \n",
    "    mytokens = [ word.lemma_.lower().strip() if word.lemma_ != \"-PRON-\" else word.lower_ for word in mytokens ]\n",
    "\n",
    "    # Removing stop words using stopword from spacy library and punctuations from string library\n",
    "    mytokens = [ word for word in mytokens if word not in stop_words and word not in punctuations ]\n",
    "\n",
    "    # return preprocessed list of tokens\n",
    "    return mytokens"
   ]
  },
  {
   "cell_type": "code",
   "execution_count": 82,
   "metadata": {},
   "outputs": [],
   "source": [
    "# Custom transformer using spaCy\n",
    "class predictors(TransformerMixin):\n",
    "    def transform(self, X, **transform_params):\n",
    "        # Cleaning Text\n",
    "        return [clean_text(text) for text in X]\n",
    "\n",
    "    def fit(self, X, y, **fit_params):\n",
    "        return self\n",
    "\n",
    "    def get_params(self, deep=True):\n",
    "        return {}\n",
    "\n",
    "# Basic function to clean the text\n",
    "def clean_text(text):\n",
    "    # Removing spaces and converting text into lowercase\n",
    "    return text.strip().lower()"
   ]
  },
  {
   "cell_type": "code",
   "execution_count": 83,
   "metadata": {},
   "outputs": [],
   "source": [
    "# bow_vector = CountVectorizer(tokenizer = spacy_tokenizer, ngram_range=(1,1))\n",
    "# Creating the Bag of Words model\n",
    "bow_vector = CountVectorizer(max_features = 100,tokenizer = spacy_tokenizer,ngram_range=(1,2))\n",
    "# X = bow_vector.fit_transform(train.loc[:,'Title']).toarray()"
   ]
  },
  {
   "cell_type": "markdown",
   "metadata": {},
   "source": [
    "# Separating labels and features"
   ]
  },
  {
   "cell_type": "code",
   "execution_count": 84,
   "metadata": {},
   "outputs": [
    {
     "name": "stdout",
     "output_type": "stream",
     "text": [
      "(1500, 2) (1125, 1) (375, 1) (1125,) (375,)\n"
     ]
    }
   ],
   "source": [
    "X = df.drop('score',axis=1).values\n",
    "y = df['score'].values\n",
    "X_train, X_test, y_train, y_test = train_test_split(X, y, test_size = 0.25, random_state=42)\n",
    "print(df.shape, X_train.shape, X_test.shape,y_train.shape,y_test.shape)"
   ]
  },
  {
   "cell_type": "code",
   "execution_count": 85,
   "metadata": {},
   "outputs": [],
   "source": [
    "X_train = X_train.ravel()"
   ]
  },
  {
   "cell_type": "code",
   "execution_count": 86,
   "metadata": {},
   "outputs": [
    {
     "data": {
      "text/plain": [
       "(1125,)"
      ]
     },
     "execution_count": 86,
     "metadata": {},
     "output_type": "execute_result"
    }
   ],
   "source": [
    "X_train.shape"
   ]
  },
  {
   "cell_type": "code",
   "execution_count": 87,
   "metadata": {},
   "outputs": [],
   "source": [
    "X_test = X_test.ravel()"
   ]
  },
  {
   "cell_type": "code",
   "execution_count": 88,
   "metadata": {},
   "outputs": [
    {
     "data": {
      "text/plain": [
       "(375,)"
      ]
     },
     "execution_count": 88,
     "metadata": {},
     "output_type": "execute_result"
    }
   ],
   "source": [
    "X_test.shape"
   ]
  },
  {
   "cell_type": "code",
   "execution_count": 89,
   "metadata": {},
   "outputs": [
    {
     "data": {
      "text/plain": [
       "(1125,)"
      ]
     },
     "execution_count": 89,
     "metadata": {},
     "output_type": "execute_result"
    }
   ],
   "source": [
    "y_train.shape"
   ]
  },
  {
   "cell_type": "code",
   "execution_count": 90,
   "metadata": {},
   "outputs": [
    {
     "data": {
      "text/plain": [
       "array(['Sheer class! Congratulations @babarazam258 🔥\\n\\n#PAKvNZ #CWC19 https://t.co/zdmwSV9cZO',\n",
       "       \"RT @GOT7Official: GOT7 2019 WORLD TOUR 'KEEP SPINNING' IN NEWARK\\n\\nGOT7 NOW @TODAYshow\\n\\n#GOT7 #갓세븐\\n#GOT7_SPINNINGTOP\\n#GOT7_ECLIPSE\\n#GOT7WORL…\",\n",
       "       \"RT @GOT7Official: GOT7 2019 WORLD TOUR 'KEEP SPINNING' IN NEWARK\\n: WITH @TODAYshow\\n\\nhttps://t.co/w0yf6rsUIe\\n\\n#GOT7 #갓세븐\\n#GOT7_SPINNINGTOP\\n#…\",\n",
       "       ...,\n",
       "       'Next: M Santner\\nPAK 89/2 21.1 Ov\\nNZ 237/6 50.0 Ov\\nB Azam 36(44), M Hafeez 24(44)\\n149 runs required from 173 balls… https://t.co/txa53Y8PUG',\n",
       "       \"RT @GOT7Community: #GOT7 #GOT7onTodayShow #갓세븐 #GOT7WORLDTOUR #GOT7_KEEPSPINNING\\n\\nPerformance in all English, LIVE.\\n\\nI'm so proud of the bo…\",\n",
       "       \"RT @GOT7Official: GOT7 2019 WORLD TOUR 'KEEP SPINNING' IN NEWARK\\n: WITH @TODAYshow\\n\\nhttps://t.co/w0yf6rsUIe\\n\\n#GOT7 #갓세븐\\n#GOT7_SPINNINGTOP\\n#…\"],\n",
       "      dtype=object)"
      ]
     },
     "execution_count": 90,
     "metadata": {},
     "output_type": "execute_result"
    }
   ],
   "source": [
    "X_train"
   ]
  },
  {
   "cell_type": "code",
   "execution_count": 91,
   "metadata": {},
   "outputs": [],
   "source": [
    "xgboost = XGBRegressor()"
   ]
  },
  {
   "cell_type": "code",
   "execution_count": 92,
   "metadata": {},
   "outputs": [
    {
     "data": {
      "text/plain": [
       "Pipeline(memory=None,\n",
       "     steps=[('cleaner', <__main__.predictors object at 0x000002636E20F2E8>), ('vectorizer', CountVectorizer(analyzer='word', binary=False, decode_error='strict',\n",
       "        dtype=<class 'numpy.int64'>, encoding='utf-8', input='content',\n",
       "        lowercase=True, max_df=1.0, max_features=100, min_df=1,\n",
       "       ...lpha=0, reg_lambda=1, scale_pos_weight=1, seed=None,\n",
       "       silent=None, subsample=1, verbosity=1))])"
      ]
     },
     "execution_count": 92,
     "metadata": {},
     "output_type": "execute_result"
    }
   ],
   "source": [
    "# Create pipeline using Bag of Words\n",
    "pipe = Pipeline([(\"cleaner\", predictors()),\n",
    "                 ('vectorizer', bow_vector),\n",
    "                 ('tfidf',TfidfTransformer()),\n",
    "                 ('regressor', xgboost)])\n",
    "\n",
    "# model generation\n",
    "pipe.fit(X_train,y_train)"
   ]
  },
  {
   "cell_type": "code",
   "execution_count": 93,
   "metadata": {},
   "outputs": [],
   "source": [
    "pred = pipe.predict(X_test)"
   ]
  },
  {
   "cell_type": "code",
   "execution_count": null,
   "metadata": {},
   "outputs": [],
   "source": []
  }
 ],
 "metadata": {
  "kernelspec": {
   "display_name": "Python 3",
   "language": "python",
   "name": "python3"
  },
  "language_info": {
   "codemirror_mode": {
    "name": "ipython",
    "version": 3
   },
   "file_extension": ".py",
   "mimetype": "text/x-python",
   "name": "python",
   "nbconvert_exporter": "python",
   "pygments_lexer": "ipython3",
   "version": "3.6.7"
  }
 },
 "nbformat": 4,
 "nbformat_minor": 2
}
