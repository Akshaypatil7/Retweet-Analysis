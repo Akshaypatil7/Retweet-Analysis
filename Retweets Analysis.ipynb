{
 "cells": [
  {
   "cell_type": "code",
   "execution_count": 1,
   "metadata": {},
   "outputs": [],
   "source": [
    "# loading the required libraries \n",
    "#Load required libraries\n",
    "import os\n",
    "import csv\n",
    "import tweepy\n",
    "from tweepy import OAuthHandler\n",
    "from tweepy import Stream\n",
    "import pandas as pd\n",
    "import numpy as np\n",
    "import matplotlib.pyplot as plt\n",
    "from spacy.lang.en import English\n",
    "from spacy.lang.en.stop_words import STOP_WORDS\n",
    "stop_words = STOP_WORDS\n",
    "import string\n",
    "punctuations = string.punctuation\n",
    "from xgboost import XGBRegressor\n",
    "import xgboost as xgb\n",
    "from sklearn.pipeline import Pipeline\n",
    "from sklearn.feature_extraction.text import CountVectorizer\n",
    "from sklearn.feature_extraction.text import TfidfTransformer\n",
    "from sklearn.model_selection import GridSearchCV\n",
    "import seaborn as sns\n",
    "from spacy.lang.en import English\n",
    "from spacy.lang.en.stop_words import STOP_WORDS\n",
    "from sklearn.base import TransformerMixin\n",
    "from sklearn.feature_extraction.text import TfidfVectorizer \n",
    "from sklearn.feature_extraction.text import TfidfTransformer\n",
    "from sklearn.preprocessing import StandardScaler\n",
    "from sklearn.model_selection import train_test_split\n",
    "from sklearn import metrics"
   ]
  },
  {
   "cell_type": "code",
   "execution_count": 2,
   "metadata": {},
   "outputs": [
    {
     "data": {
      "text/plain": [
       "'C:\\\\Users\\\\admin\\\\Documents\\\\Python Files'"
      ]
     },
     "execution_count": 2,
     "metadata": {},
     "output_type": "execute_result"
    }
   ],
   "source": [
    "#set working directory\n",
    "os.chdir(\"C:/Users/admin/Documents/Python Files\")\n",
    "os.getcwd()"
   ]
  },
  {
   "cell_type": "code",
   "execution_count": 3,
   "metadata": {},
   "outputs": [],
   "source": [
    "## Connect Twitter\n",
    "\n",
    "#Store required keys\n",
    "consumer_key = \"\"\n",
    "consumer_secret = \"\"\n",
    "access_key = \"\"\n",
    "access_secret = \"\""
   ]
  },
  {
   "cell_type": "code",
   "execution_count": 4,
   "metadata": {},
   "outputs": [],
   "source": [
    "#Establish connection\n",
    "auth = tweepy.OAuthHandler(consumer_key, consumer_secret)\n",
    "auth.set_access_token(access_key, access_secret)\n",
    "api = tweepy.API(auth)"
   ]
  },
  {
   "cell_type": "markdown",
   "metadata": {},
   "source": [
    "##### \tWe have extracted tweets by below trending Hastags\n",
    "1. \t#BTSWORLD\n",
    "2. \t#PAKvNZ\n",
    "3. \t#GOT7onTodayShow\n",
    "4.  #StepDownCM\n",
    "5. \t#AjazKhan\n",
    "6.  #JSWPlatinaLaunch\n",
    "7. \t#ZeroTrustGovt\n",
    "8. \t#TheLionKingWithKingKhan\n",
    "9.  #PrayForKyoani\n",
    "10. #SecretOfHappyLife\n",
    "11.\t#FridayFeeling\n",
    "12. #TopGunMaverick\n",
    "13. #MangalPandey\n",
    "14. #ICCHallOfFame\n",
    "15. Cats"
   ]
  },
  {
   "cell_type": "code",
   "execution_count": 24,
   "metadata": {},
   "outputs": [],
   "source": [
    "#Extract tweets\n",
    "#Create empty list\n",
    "results = []\n",
    "trending_hastags = ['#MangalPandey','#ICCHallOfFame']\n",
    "for i in trending_hastags:\n",
    "    #Get the first 500 items based on the search query\n",
    "    for tweet in tweepy.Cursor(api.search,q=i,lang=\"en\").items(600):\n",
    "        results.append(tweet)"
   ]
  },
  {
   "cell_type": "code",
   "execution_count": 25,
   "metadata": {},
   "outputs": [
    {
     "name": "stdout",
     "output_type": "stream",
     "text": [
      "932\n"
     ]
    }
   ],
   "source": [
    "# Verify the number of items returned\n",
    "print (len(results))"
   ]
  },
  {
   "cell_type": "code",
   "execution_count": 26,
   "metadata": {},
   "outputs": [],
   "source": [
    "#Convert list into dataframe\n",
    "def toDataFrame(tweets):\n",
    "    #Create empty data frame\n",
    "    DataSet = pd.DataFrame()\n",
    "    \n",
    "    #extract relevant information\n",
    "    DataSet['tweetID'] = [tweet.id for tweet in tweets]\n",
    "    DataSet['tweetText'] = [tweet.text for tweet in tweets]\n",
    "    DataSet['tweetRetweetCt'] = [tweet.retweet_count for tweet in tweets]\n",
    "    DataSet['tweetFavoriteCt'] = [tweet.favorite_count for tweet in tweets]\n",
    "    DataSet['tweetSource'] = [tweet.source for tweet in tweets]\n",
    "    DataSet['tweetCreated'] = [tweet.created_at for tweet in tweets]\n",
    "    DataSet['userID'] = [tweet.user.id for tweet in tweets]\n",
    "    DataSet['userScreen'] = [tweet.user.screen_name for tweet in tweets]\n",
    "    DataSet['userName'] = [tweet.user.name for tweet in tweets]\n",
    "    DataSet['userCreateDt'] = [tweet.user.created_at for tweet in tweets]\n",
    "    DataSet['userDesc'] = [tweet.user.description for tweet in tweets]\n",
    "    DataSet['userFollowerCt'] = [tweet.user.followers_count for tweet in tweets]\n",
    "    DataSet['userFriendsCt'] = [tweet.user.friends_count for tweet in tweets]\n",
    "    DataSet['userLocation'] = [tweet.user.location for tweet in tweets]\n",
    "    DataSet['userTimezone'] = [tweet.user.time_zone for tweet in tweets]\n",
    "\n",
    "    return DataSet"
   ]
  },
  {
   "cell_type": "code",
   "execution_count": 27,
   "metadata": {},
   "outputs": [],
   "source": [
    "#Pass the tweets list to the above function to create a DataFrame\n",
    "DataSet = toDataFrame(results)"
   ]
  },
  {
   "cell_type": "code",
   "execution_count": 28,
   "metadata": {
    "scrolled": true
   },
   "outputs": [
    {
     "data": {
      "text/html": [
       "<div>\n",
       "<style scoped>\n",
       "    .dataframe tbody tr th:only-of-type {\n",
       "        vertical-align: middle;\n",
       "    }\n",
       "\n",
       "    .dataframe tbody tr th {\n",
       "        vertical-align: top;\n",
       "    }\n",
       "\n",
       "    .dataframe thead th {\n",
       "        text-align: right;\n",
       "    }\n",
       "</style>\n",
       "<table border=\"1\" class=\"dataframe\">\n",
       "  <thead>\n",
       "    <tr style=\"text-align: right;\">\n",
       "      <th></th>\n",
       "      <th>tweetID</th>\n",
       "      <th>tweetText</th>\n",
       "      <th>tweetRetweetCt</th>\n",
       "      <th>tweetFavoriteCt</th>\n",
       "      <th>tweetSource</th>\n",
       "      <th>tweetCreated</th>\n",
       "      <th>userID</th>\n",
       "      <th>userScreen</th>\n",
       "      <th>userName</th>\n",
       "      <th>userCreateDt</th>\n",
       "      <th>userDesc</th>\n",
       "      <th>userFollowerCt</th>\n",
       "      <th>userFriendsCt</th>\n",
       "      <th>userLocation</th>\n",
       "      <th>userTimezone</th>\n",
       "    </tr>\n",
       "  </thead>\n",
       "  <tbody>\n",
       "    <tr>\n",
       "      <th>0</th>\n",
       "      <td>1152069456723496968</td>\n",
       "      <td>Tributes to the great freedom fighter #mangalp...</td>\n",
       "      <td>0</td>\n",
       "      <td>0</td>\n",
       "      <td>Twitter for Android</td>\n",
       "      <td>2019-07-19 04:15:37</td>\n",
       "      <td>930069721147432963</td>\n",
       "      <td>Chiraggarg216</td>\n",
       "      <td>Chirag Agrawal</td>\n",
       "      <td>2017-11-13 13:47:56</td>\n",
       "      <td>Nothing ventured nothing gained</td>\n",
       "      <td>9</td>\n",
       "      <td>158</td>\n",
       "      <td>Madhya Pradesh, India</td>\n",
       "      <td>None</td>\n",
       "    </tr>\n",
       "    <tr>\n",
       "      <th>1</th>\n",
       "      <td>1152069255942164480</td>\n",
       "      <td>RT @IndiaToday: Remembering freedom fighter #M...</td>\n",
       "      <td>9</td>\n",
       "      <td>0</td>\n",
       "      <td>Twitter for Android</td>\n",
       "      <td>2019-07-19 04:14:49</td>\n",
       "      <td>897489661249019904</td>\n",
       "      <td>aarthiyuvraj</td>\n",
       "      <td>Aarthiyuvraj</td>\n",
       "      <td>2017-08-15 16:06:24</td>\n",
       "      <td>From chidambaram,  I love my sisters,  I m ECE...</td>\n",
       "      <td>0</td>\n",
       "      <td>43</td>\n",
       "      <td>Pondicherry, India</td>\n",
       "      <td>None</td>\n",
       "    </tr>\n",
       "    <tr>\n",
       "      <th>2</th>\n",
       "      <td>1152069083459805185</td>\n",
       "      <td>RT @Sunil_Deodhar: Tributes to legendary freed...</td>\n",
       "      <td>35</td>\n",
       "      <td>0</td>\n",
       "      <td>Twitter for Android</td>\n",
       "      <td>2019-07-19 04:14:08</td>\n",
       "      <td>883942532920602624</td>\n",
       "      <td>Tinku26</td>\n",
       "      <td>Ravi Ranjan Shukla</td>\n",
       "      <td>2017-07-09 06:54:57</td>\n",
       "      <td>भारत की सभी समस्याओं का समाधान है जनसंख्या निय...</td>\n",
       "      <td>376</td>\n",
       "      <td>173</td>\n",
       "      <td>मुजफ्फरपुर,बिहार</td>\n",
       "      <td>None</td>\n",
       "    </tr>\n",
       "    <tr>\n",
       "      <th>3</th>\n",
       "      <td>1152068781478256646</td>\n",
       "      <td>Mangal Pandey biography : Life and revolt of 1...</td>\n",
       "      <td>0</td>\n",
       "      <td>1</td>\n",
       "      <td>Twitter Web App</td>\n",
       "      <td>2019-07-19 04:12:56</td>\n",
       "      <td>2914923829</td>\n",
       "      <td>VishalGadaraCC</td>\n",
       "      <td>Vishal Gadara</td>\n",
       "      <td>2014-11-30 16:21:13</td>\n",
       "      <td>my born may be normal but death must be histor...</td>\n",
       "      <td>18346</td>\n",
       "      <td>13327</td>\n",
       "      <td>Rajkot, India</td>\n",
       "      <td>None</td>\n",
       "    </tr>\n",
       "    <tr>\n",
       "      <th>4</th>\n",
       "      <td>1152068752533405696</td>\n",
       "      <td>RT @IndiaToday: Remembering freedom fighter #M...</td>\n",
       "      <td>9</td>\n",
       "      <td>0</td>\n",
       "      <td>Twitter for Android</td>\n",
       "      <td>2019-07-19 04:12:49</td>\n",
       "      <td>1131294404872794112</td>\n",
       "      <td>Rahul7132053107</td>\n",
       "      <td>Rahul</td>\n",
       "      <td>2019-05-22 20:22:59</td>\n",
       "      <td></td>\n",
       "      <td>10</td>\n",
       "      <td>385</td>\n",
       "      <td></td>\n",
       "      <td>None</td>\n",
       "    </tr>\n",
       "  </tbody>\n",
       "</table>\n",
       "</div>"
      ],
      "text/plain": [
       "               tweetID                                          tweetText  \\\n",
       "0  1152069456723496968  Tributes to the great freedom fighter #mangalp...   \n",
       "1  1152069255942164480  RT @IndiaToday: Remembering freedom fighter #M...   \n",
       "2  1152069083459805185  RT @Sunil_Deodhar: Tributes to legendary freed...   \n",
       "3  1152068781478256646  Mangal Pandey biography : Life and revolt of 1...   \n",
       "4  1152068752533405696  RT @IndiaToday: Remembering freedom fighter #M...   \n",
       "\n",
       "   tweetRetweetCt  tweetFavoriteCt          tweetSource        tweetCreated  \\\n",
       "0               0                0  Twitter for Android 2019-07-19 04:15:37   \n",
       "1               9                0  Twitter for Android 2019-07-19 04:14:49   \n",
       "2              35                0  Twitter for Android 2019-07-19 04:14:08   \n",
       "3               0                1      Twitter Web App 2019-07-19 04:12:56   \n",
       "4               9                0  Twitter for Android 2019-07-19 04:12:49   \n",
       "\n",
       "                userID       userScreen            userName  \\\n",
       "0   930069721147432963    Chiraggarg216      Chirag Agrawal   \n",
       "1   897489661249019904     aarthiyuvraj        Aarthiyuvraj   \n",
       "2   883942532920602624          Tinku26  Ravi Ranjan Shukla   \n",
       "3           2914923829   VishalGadaraCC       Vishal Gadara   \n",
       "4  1131294404872794112  Rahul7132053107               Rahul   \n",
       "\n",
       "         userCreateDt                                           userDesc  \\\n",
       "0 2017-11-13 13:47:56                    Nothing ventured nothing gained   \n",
       "1 2017-08-15 16:06:24  From chidambaram,  I love my sisters,  I m ECE...   \n",
       "2 2017-07-09 06:54:57  भारत की सभी समस्याओं का समाधान है जनसंख्या निय...   \n",
       "3 2014-11-30 16:21:13  my born may be normal but death must be histor...   \n",
       "4 2019-05-22 20:22:59                                                      \n",
       "\n",
       "   userFollowerCt  userFriendsCt           userLocation userTimezone  \n",
       "0               9            158  Madhya Pradesh, India         None  \n",
       "1               0             43     Pondicherry, India         None  \n",
       "2             376            173       मुजफ्फरपुर,बिहार         None  \n",
       "3           18346          13327          Rajkot, India         None  \n",
       "4              10            385                                None  "
      ]
     },
     "execution_count": 28,
     "metadata": {},
     "output_type": "execute_result"
    }
   ],
   "source": [
    "DataSet.head(5)"
   ]
  },
  {
   "cell_type": "code",
   "execution_count": 29,
   "metadata": {},
   "outputs": [],
   "source": [
    "DataSet.to_csv('tweeterDataset6.csv')"
   ]
  },
  {
   "cell_type": "code",
   "execution_count": 30,
   "metadata": {},
   "outputs": [],
   "source": [
    "#Load Text data\n",
    "a = pd.read_csv(\"tweeterDataset.csv\")\n",
    "b = pd.read_csv(\"tweeterDataset1.csv\")\n",
    "c = pd.read_csv(\"tweeterDataset2.csv\")\n",
    "d = pd.read_csv(\"tweeterDataset3.csv\")\n",
    "e = pd.read_csv(\"tweeterDataset4.csv\")\n",
    "f = pd.read_csv(\"tweeterDataset5.csv\")\n",
    "g = pd.read_csv(\"tweeterDataset6.csv\")"
   ]
  },
  {
   "cell_type": "code",
   "execution_count": 31,
   "metadata": {},
   "outputs": [],
   "source": [
    "dataset = pd.concat([a,b,c,d,e,f,g],ignore_index=True)"
   ]
  },
  {
   "cell_type": "code",
   "execution_count": 32,
   "metadata": {},
   "outputs": [
    {
     "data": {
      "text/html": [
       "<div>\n",
       "<style scoped>\n",
       "    .dataframe tbody tr th:only-of-type {\n",
       "        vertical-align: middle;\n",
       "    }\n",
       "\n",
       "    .dataframe tbody tr th {\n",
       "        vertical-align: top;\n",
       "    }\n",
       "\n",
       "    .dataframe thead th {\n",
       "        text-align: right;\n",
       "    }\n",
       "</style>\n",
       "<table border=\"1\" class=\"dataframe\">\n",
       "  <thead>\n",
       "    <tr style=\"text-align: right;\">\n",
       "      <th></th>\n",
       "      <th>Unnamed: 0</th>\n",
       "      <th>tweetID</th>\n",
       "      <th>tweetText</th>\n",
       "      <th>tweetRetweetCt</th>\n",
       "      <th>tweetFavoriteCt</th>\n",
       "      <th>tweetSource</th>\n",
       "      <th>tweetCreated</th>\n",
       "      <th>userID</th>\n",
       "      <th>userScreen</th>\n",
       "      <th>userName</th>\n",
       "      <th>userCreateDt</th>\n",
       "      <th>userDesc</th>\n",
       "      <th>userFollowerCt</th>\n",
       "      <th>userFriendsCt</th>\n",
       "      <th>userLocation</th>\n",
       "      <th>userTimezone</th>\n",
       "    </tr>\n",
       "  </thead>\n",
       "  <tbody>\n",
       "    <tr>\n",
       "      <th>0</th>\n",
       "      <td>0</td>\n",
       "      <td>1143919690743341056</td>\n",
       "      <td>RT @softwhoseok: me explaining to namjoon and ...</td>\n",
       "      <td>169</td>\n",
       "      <td>0</td>\n",
       "      <td>Twitter for Android</td>\n",
       "      <td>2019-06-26 16:31:21</td>\n",
       "      <td>192224155</td>\n",
       "      <td>owenthesaintss</td>\n",
       "      <td>✨ hope right here✨</td>\n",
       "      <td>2010-09-18 14:48:44</td>\n",
       "      <td>FUCK your zodiac sign what’s your name what ex...</td>\n",
       "      <td>547</td>\n",
       "      <td>421</td>\n",
       "      <td>NaN</td>\n",
       "      <td>NaN</td>\n",
       "    </tr>\n",
       "    <tr>\n",
       "      <th>1</th>\n",
       "      <td>1</td>\n",
       "      <td>1143919690718334976</td>\n",
       "      <td>RT @agustshoongi: Me before #BTSWORLD: any one...</td>\n",
       "      <td>389</td>\n",
       "      <td>0</td>\n",
       "      <td>Twitter for Android</td>\n",
       "      <td>2019-06-26 16:31:21</td>\n",
       "      <td>1141749496755499011</td>\n",
       "      <td>reveluv_exe</td>\n",
       "      <td>Gabi$ 🤡 #ATEEZ2ndWin ಥ‿ಥ</td>\n",
       "      <td>2019-06-20 16:47:47</td>\n",
       "      <td>to__##JIMINIE : I will be your manager on bts ...</td>\n",
       "      <td>20</td>\n",
       "      <td>55</td>\n",
       "      <td>was created 20/06/19</td>\n",
       "      <td>NaN</td>\n",
       "    </tr>\n",
       "    <tr>\n",
       "      <th>2</th>\n",
       "      <td>2</td>\n",
       "      <td>1143919690407956483</td>\n",
       "      <td>RT @guroderes: i drew my personal interpretati...</td>\n",
       "      <td>3785</td>\n",
       "      <td>0</td>\n",
       "      <td>Twitter for iPhone</td>\n",
       "      <td>2019-06-26 16:31:21</td>\n",
       "      <td>3234322494</td>\n",
       "      <td>whozhaechann</td>\n",
       "      <td>ThaYsPetAcuLaR Viu o jk voando 25/05</td>\n",
       "      <td>2015-06-02 23:45:29</td>\n",
       "      <td>If teardrops could be bottled? 🥀{fã account} @...</td>\n",
       "      <td>7169</td>\n",
       "      <td>7142</td>\n",
       "      <td>Rio de Janeiro, Brasil</td>\n",
       "      <td>NaN</td>\n",
       "    </tr>\n",
       "    <tr>\n",
       "      <th>3</th>\n",
       "      <td>3</td>\n",
       "      <td>1143919689786990594</td>\n",
       "      <td>RT @btsworIdwide: #BTSWORLD Update:\\n\\nARMY: a...</td>\n",
       "      <td>263</td>\n",
       "      <td>0</td>\n",
       "      <td>Twitter Web App</td>\n",
       "      <td>2019-06-26 16:31:21</td>\n",
       "      <td>1127776211214655489</td>\n",
       "      <td>chilachiara</td>\n",
       "      <td>Chila</td>\n",
       "      <td>2019-05-13 03:22:56</td>\n",
       "      <td>I dont care</td>\n",
       "      <td>4</td>\n",
       "      <td>17</td>\n",
       "      <td>NaN</td>\n",
       "      <td>NaN</td>\n",
       "    </tr>\n",
       "    <tr>\n",
       "      <th>4</th>\n",
       "      <td>4</td>\n",
       "      <td>1143919689619398656</td>\n",
       "      <td>RT @sugasaward: Me chasing seokjin to audition...</td>\n",
       "      <td>1217</td>\n",
       "      <td>0</td>\n",
       "      <td>Twitter Web App</td>\n",
       "      <td>2019-06-26 16:31:21</td>\n",
       "      <td>1113918609275990016</td>\n",
       "      <td>LeilaXBangtan</td>\n",
       "      <td>Leila🔥</td>\n",
       "      <td>2019-04-04 21:37:46</td>\n",
       "      <td>NaN</td>\n",
       "      <td>716</td>\n",
       "      <td>4442</td>\n",
       "      <td>NaN</td>\n",
       "      <td>NaN</td>\n",
       "    </tr>\n",
       "  </tbody>\n",
       "</table>\n",
       "</div>"
      ],
      "text/plain": [
       "   Unnamed: 0              tweetID  \\\n",
       "0           0  1143919690743341056   \n",
       "1           1  1143919690718334976   \n",
       "2           2  1143919690407956483   \n",
       "3           3  1143919689786990594   \n",
       "4           4  1143919689619398656   \n",
       "\n",
       "                                           tweetText  tweetRetweetCt  \\\n",
       "0  RT @softwhoseok: me explaining to namjoon and ...             169   \n",
       "1  RT @agustshoongi: Me before #BTSWORLD: any one...             389   \n",
       "2  RT @guroderes: i drew my personal interpretati...            3785   \n",
       "3  RT @btsworIdwide: #BTSWORLD Update:\\n\\nARMY: a...             263   \n",
       "4  RT @sugasaward: Me chasing seokjin to audition...            1217   \n",
       "\n",
       "   tweetFavoriteCt          tweetSource         tweetCreated  \\\n",
       "0                0  Twitter for Android  2019-06-26 16:31:21   \n",
       "1                0  Twitter for Android  2019-06-26 16:31:21   \n",
       "2                0   Twitter for iPhone  2019-06-26 16:31:21   \n",
       "3                0      Twitter Web App  2019-06-26 16:31:21   \n",
       "4                0      Twitter Web App  2019-06-26 16:31:21   \n",
       "\n",
       "                userID      userScreen                              userName  \\\n",
       "0            192224155  owenthesaintss                    ✨ hope right here✨   \n",
       "1  1141749496755499011     reveluv_exe              Gabi$ 🤡 #ATEEZ2ndWin ಥ‿ಥ   \n",
       "2           3234322494    whozhaechann  ThaYsPetAcuLaR Viu o jk voando 25/05   \n",
       "3  1127776211214655489     chilachiara                                 Chila   \n",
       "4  1113918609275990016   LeilaXBangtan                                Leila🔥   \n",
       "\n",
       "          userCreateDt                                           userDesc  \\\n",
       "0  2010-09-18 14:48:44  FUCK your zodiac sign what’s your name what ex...   \n",
       "1  2019-06-20 16:47:47  to__##JIMINIE : I will be your manager on bts ...   \n",
       "2  2015-06-02 23:45:29  If teardrops could be bottled? 🥀{fã account} @...   \n",
       "3  2019-05-13 03:22:56                                        I dont care   \n",
       "4  2019-04-04 21:37:46                                                NaN   \n",
       "\n",
       "   userFollowerCt  userFriendsCt            userLocation  userTimezone  \n",
       "0             547            421                     NaN           NaN  \n",
       "1              20             55    was created 20/06/19           NaN  \n",
       "2            7169           7142  Rio de Janeiro, Brasil           NaN  \n",
       "3               4             17                     NaN           NaN  \n",
       "4             716           4442                     NaN           NaN  "
      ]
     },
     "execution_count": 32,
     "metadata": {},
     "output_type": "execute_result"
    }
   ],
   "source": [
    "dataset.head(5)"
   ]
  },
  {
   "cell_type": "code",
   "execution_count": 33,
   "metadata": {},
   "outputs": [
    {
     "data": {
      "text/plain": [
       "(8812, 16)"
      ]
     },
     "execution_count": 33,
     "metadata": {},
     "output_type": "execute_result"
    }
   ],
   "source": [
    "dataset.shape"
   ]
  },
  {
   "cell_type": "code",
   "execution_count": 89,
   "metadata": {},
   "outputs": [],
   "source": [
    "df = dataset.copy()"
   ]
  },
  {
   "cell_type": "code",
   "execution_count": 90,
   "metadata": {},
   "outputs": [
    {
     "data": {
      "text/plain": [
       "Index(['Unnamed: 0', 'tweetID', 'tweetText', 'tweetRetweetCt',\n",
       "       'tweetFavoriteCt', 'tweetSource', 'tweetCreated', 'userID',\n",
       "       'userScreen', 'userName', 'userCreateDt', 'userDesc', 'userFollowerCt',\n",
       "       'userFriendsCt', 'userLocation', 'userTimezone'],\n",
       "      dtype='object')"
      ]
     },
     "execution_count": 90,
     "metadata": {},
     "output_type": "execute_result"
    }
   ],
   "source": [
    "df.columns"
   ]
  },
  {
   "cell_type": "code",
   "execution_count": 91,
   "metadata": {},
   "outputs": [],
   "source": [
    "# let's remove the features which are not required \n",
    "df = df.drop(['Unnamed: 0', 'tweetID', 'tweetSource', 'tweetCreated', 'userID',\n",
    "       'userScreen', 'userName', 'userCreateDt', 'userDesc', 'userLocation', 'userTimezone'],axis = 1)"
   ]
  },
  {
   "cell_type": "code",
   "execution_count": 92,
   "metadata": {},
   "outputs": [
    {
     "name": "stdout",
     "output_type": "stream",
     "text": [
      "<class 'pandas.core.frame.DataFrame'>\n",
      "RangeIndex: 8812 entries, 0 to 8811\n",
      "Data columns (total 5 columns):\n",
      "tweetText          8812 non-null object\n",
      "tweetRetweetCt     8812 non-null int64\n",
      "tweetFavoriteCt    8812 non-null int64\n",
      "userFollowerCt     8812 non-null int64\n",
      "userFriendsCt      8812 non-null int64\n",
      "dtypes: int64(4), object(1)\n",
      "memory usage: 344.3+ KB\n"
     ]
    }
   ],
   "source": [
    "df.info()"
   ]
  },
  {
   "cell_type": "code",
   "execution_count": 93,
   "metadata": {},
   "outputs": [
    {
     "data": {
      "text/html": [
       "<div>\n",
       "<style scoped>\n",
       "    .dataframe tbody tr th:only-of-type {\n",
       "        vertical-align: middle;\n",
       "    }\n",
       "\n",
       "    .dataframe tbody tr th {\n",
       "        vertical-align: top;\n",
       "    }\n",
       "\n",
       "    .dataframe thead th {\n",
       "        text-align: right;\n",
       "    }\n",
       "</style>\n",
       "<table border=\"1\" class=\"dataframe\">\n",
       "  <thead>\n",
       "    <tr style=\"text-align: right;\">\n",
       "      <th></th>\n",
       "      <th>tweetRetweetCt</th>\n",
       "      <th>tweetFavoriteCt</th>\n",
       "      <th>userFollowerCt</th>\n",
       "      <th>userFriendsCt</th>\n",
       "    </tr>\n",
       "  </thead>\n",
       "  <tbody>\n",
       "    <tr>\n",
       "      <th>count</th>\n",
       "      <td>8812.000000</td>\n",
       "      <td>8812.000000</td>\n",
       "      <td>8.812000e+03</td>\n",
       "      <td>8.812000e+03</td>\n",
       "    </tr>\n",
       "    <tr>\n",
       "      <th>mean</th>\n",
       "      <td>839.890831</td>\n",
       "      <td>0.354630</td>\n",
       "      <td>5.534934e+03</td>\n",
       "      <td>1.320837e+03</td>\n",
       "    </tr>\n",
       "    <tr>\n",
       "      <th>std</th>\n",
       "      <td>3192.710062</td>\n",
       "      <td>3.228533</td>\n",
       "      <td>1.331104e+05</td>\n",
       "      <td>2.129119e+04</td>\n",
       "    </tr>\n",
       "    <tr>\n",
       "      <th>min</th>\n",
       "      <td>0.000000</td>\n",
       "      <td>0.000000</td>\n",
       "      <td>0.000000e+00</td>\n",
       "      <td>0.000000e+00</td>\n",
       "    </tr>\n",
       "    <tr>\n",
       "      <th>25%</th>\n",
       "      <td>0.000000</td>\n",
       "      <td>0.000000</td>\n",
       "      <td>4.800000e+01</td>\n",
       "      <td>9.300000e+01</td>\n",
       "    </tr>\n",
       "    <tr>\n",
       "      <th>50%</th>\n",
       "      <td>19.000000</td>\n",
       "      <td>0.000000</td>\n",
       "      <td>1.855000e+02</td>\n",
       "      <td>2.740000e+02</td>\n",
       "    </tr>\n",
       "    <tr>\n",
       "      <th>75%</th>\n",
       "      <td>371.250000</td>\n",
       "      <td>0.000000</td>\n",
       "      <td>7.842500e+02</td>\n",
       "      <td>7.910000e+02</td>\n",
       "    </tr>\n",
       "    <tr>\n",
       "      <th>max</th>\n",
       "      <td>118799.000000</td>\n",
       "      <td>133.000000</td>\n",
       "      <td>7.847621e+06</td>\n",
       "      <td>1.780298e+06</td>\n",
       "    </tr>\n",
       "  </tbody>\n",
       "</table>\n",
       "</div>"
      ],
      "text/plain": [
       "       tweetRetweetCt  tweetFavoriteCt  userFollowerCt  userFriendsCt\n",
       "count     8812.000000      8812.000000    8.812000e+03   8.812000e+03\n",
       "mean       839.890831         0.354630    5.534934e+03   1.320837e+03\n",
       "std       3192.710062         3.228533    1.331104e+05   2.129119e+04\n",
       "min          0.000000         0.000000    0.000000e+00   0.000000e+00\n",
       "25%          0.000000         0.000000    4.800000e+01   9.300000e+01\n",
       "50%         19.000000         0.000000    1.855000e+02   2.740000e+02\n",
       "75%        371.250000         0.000000    7.842500e+02   7.910000e+02\n",
       "max     118799.000000       133.000000    7.847621e+06   1.780298e+06"
      ]
     },
     "execution_count": 93,
     "metadata": {},
     "output_type": "execute_result"
    }
   ],
   "source": [
    "df.describe()"
   ]
  },
  {
   "cell_type": "markdown",
   "metadata": {},
   "source": [
    "###### let' feature engineer features like : \n",
    "- Length of tweet (1 to 140 characters) \n",
    "- Average word length in tweet \n",
    "- Number of #hashtags \n",
    "- Number of @mentions \n",
    "- Number of links  "
   ]
  },
  {
   "cell_type": "code",
   "execution_count": 94,
   "metadata": {},
   "outputs": [],
   "source": [
    "def length_of_tweet(tweet):\n",
    "    return len(tweet)"
   ]
  },
  {
   "cell_type": "code",
   "execution_count": 95,
   "metadata": {},
   "outputs": [],
   "source": [
    "def avg_len(length):\n",
    "    return length/sum(df['length_of_tweet'])"
   ]
  },
  {
   "cell_type": "code",
   "execution_count": 96,
   "metadata": {},
   "outputs": [],
   "source": [
    "def num_hastags(tweet):\n",
    "    count = 0\n",
    "    words = tweet.split()\n",
    "    for word in words:\n",
    "        if word[:1] == '#' and len(word)>1:\n",
    "            count+=1\n",
    "    return count"
   ]
  },
  {
   "cell_type": "code",
   "execution_count": 97,
   "metadata": {},
   "outputs": [],
   "source": [
    "def num_mentions(tweet):\n",
    "    words = tweet.split()\n",
    "    count = 0\n",
    "    for word in words:\n",
    "        if word[:1] == '@' and len(word)>1:\n",
    "            count+=1\n",
    "    return count"
   ]
  },
  {
   "cell_type": "code",
   "execution_count": 98,
   "metadata": {},
   "outputs": [],
   "source": [
    "def num_links(tweet):\n",
    "    words = tweet.split()\n",
    "    count = 0\n",
    "    for word in words:\n",
    "        if word[:5] == 'https' and len(word)>5:\n",
    "            count+=1\n",
    "    return count"
   ]
  },
  {
   "cell_type": "code",
   "execution_count": 99,
   "metadata": {},
   "outputs": [],
   "source": [
    "df['num_links'] = df['tweetText'].apply(num_links)\n",
    "df['num_mentions'] = df['tweetText'].apply(num_mentions)\n",
    "df['num_hastags'] = df['tweetText'].apply(num_hastags)\n",
    "df['length_of_tweet'] = df['tweetText'].apply(length_of_tweet)"
   ]
  },
  {
   "cell_type": "code",
   "execution_count": 100,
   "metadata": {
    "scrolled": true
   },
   "outputs": [
    {
     "data": {
      "text/html": [
       "<div>\n",
       "<style scoped>\n",
       "    .dataframe tbody tr th:only-of-type {\n",
       "        vertical-align: middle;\n",
       "    }\n",
       "\n",
       "    .dataframe tbody tr th {\n",
       "        vertical-align: top;\n",
       "    }\n",
       "\n",
       "    .dataframe thead th {\n",
       "        text-align: right;\n",
       "    }\n",
       "</style>\n",
       "<table border=\"1\" class=\"dataframe\">\n",
       "  <thead>\n",
       "    <tr style=\"text-align: right;\">\n",
       "      <th></th>\n",
       "      <th>tweetText</th>\n",
       "      <th>tweetRetweetCt</th>\n",
       "      <th>tweetFavoriteCt</th>\n",
       "      <th>userFollowerCt</th>\n",
       "      <th>userFriendsCt</th>\n",
       "      <th>num_links</th>\n",
       "      <th>num_mentions</th>\n",
       "      <th>num_hastags</th>\n",
       "      <th>length_of_tweet</th>\n",
       "    </tr>\n",
       "  </thead>\n",
       "  <tbody>\n",
       "    <tr>\n",
       "      <th>0</th>\n",
       "      <td>RT @softwhoseok: me explaining to namjoon and ...</td>\n",
       "      <td>169</td>\n",
       "      <td>0</td>\n",
       "      <td>547</td>\n",
       "      <td>421</td>\n",
       "      <td>1</td>\n",
       "      <td>1</td>\n",
       "      <td>1</td>\n",
       "      <td>140</td>\n",
       "    </tr>\n",
       "    <tr>\n",
       "      <th>1</th>\n",
       "      <td>RT @agustshoongi: Me before #BTSWORLD: any one...</td>\n",
       "      <td>389</td>\n",
       "      <td>0</td>\n",
       "      <td>20</td>\n",
       "      <td>55</td>\n",
       "      <td>0</td>\n",
       "      <td>1</td>\n",
       "      <td>1</td>\n",
       "      <td>140</td>\n",
       "    </tr>\n",
       "    <tr>\n",
       "      <th>2</th>\n",
       "      <td>RT @guroderes: i drew my personal interpretati...</td>\n",
       "      <td>3785</td>\n",
       "      <td>0</td>\n",
       "      <td>7169</td>\n",
       "      <td>7142</td>\n",
       "      <td>1</td>\n",
       "      <td>1</td>\n",
       "      <td>2</td>\n",
       "      <td>121</td>\n",
       "    </tr>\n",
       "    <tr>\n",
       "      <th>3</th>\n",
       "      <td>RT @btsworIdwide: #BTSWORLD Update:\\n\\nARMY: a...</td>\n",
       "      <td>263</td>\n",
       "      <td>0</td>\n",
       "      <td>4</td>\n",
       "      <td>17</td>\n",
       "      <td>0</td>\n",
       "      <td>1</td>\n",
       "      <td>2</td>\n",
       "      <td>140</td>\n",
       "    </tr>\n",
       "    <tr>\n",
       "      <th>4</th>\n",
       "      <td>RT @sugasaward: Me chasing seokjin to audition...</td>\n",
       "      <td>1217</td>\n",
       "      <td>0</td>\n",
       "      <td>716</td>\n",
       "      <td>4442</td>\n",
       "      <td>1</td>\n",
       "      <td>1</td>\n",
       "      <td>1</td>\n",
       "      <td>93</td>\n",
       "    </tr>\n",
       "  </tbody>\n",
       "</table>\n",
       "</div>"
      ],
      "text/plain": [
       "                                           tweetText  tweetRetweetCt  \\\n",
       "0  RT @softwhoseok: me explaining to namjoon and ...             169   \n",
       "1  RT @agustshoongi: Me before #BTSWORLD: any one...             389   \n",
       "2  RT @guroderes: i drew my personal interpretati...            3785   \n",
       "3  RT @btsworIdwide: #BTSWORLD Update:\\n\\nARMY: a...             263   \n",
       "4  RT @sugasaward: Me chasing seokjin to audition...            1217   \n",
       "\n",
       "   tweetFavoriteCt  userFollowerCt  userFriendsCt  num_links  num_mentions  \\\n",
       "0                0             547            421          1             1   \n",
       "1                0              20             55          0             1   \n",
       "2                0            7169           7142          1             1   \n",
       "3                0               4             17          0             1   \n",
       "4                0             716           4442          1             1   \n",
       "\n",
       "   num_hastags  length_of_tweet  \n",
       "0            1              140  \n",
       "1            1              140  \n",
       "2            2              121  \n",
       "3            2              140  \n",
       "4            1               93  "
      ]
     },
     "execution_count": 100,
     "metadata": {},
     "output_type": "execute_result"
    }
   ],
   "source": [
    "df.head()"
   ]
  },
  {
   "cell_type": "code",
   "execution_count": 101,
   "metadata": {},
   "outputs": [
    {
     "data": {
      "text/html": [
       "<div>\n",
       "<style scoped>\n",
       "    .dataframe tbody tr th:only-of-type {\n",
       "        vertical-align: middle;\n",
       "    }\n",
       "\n",
       "    .dataframe tbody tr th {\n",
       "        vertical-align: top;\n",
       "    }\n",
       "\n",
       "    .dataframe thead th {\n",
       "        text-align: right;\n",
       "    }\n",
       "</style>\n",
       "<table border=\"1\" class=\"dataframe\">\n",
       "  <thead>\n",
       "    <tr style=\"text-align: right;\">\n",
       "      <th></th>\n",
       "      <th>tweetRetweetCt</th>\n",
       "      <th>tweetFavoriteCt</th>\n",
       "      <th>userFollowerCt</th>\n",
       "      <th>userFriendsCt</th>\n",
       "      <th>num_links</th>\n",
       "      <th>num_mentions</th>\n",
       "      <th>num_hastags</th>\n",
       "      <th>length_of_tweet</th>\n",
       "    </tr>\n",
       "  </thead>\n",
       "  <tbody>\n",
       "    <tr>\n",
       "      <th>count</th>\n",
       "      <td>8812.000000</td>\n",
       "      <td>8812.000000</td>\n",
       "      <td>8.812000e+03</td>\n",
       "      <td>8.812000e+03</td>\n",
       "      <td>8812.000000</td>\n",
       "      <td>8812.000000</td>\n",
       "      <td>8812.000000</td>\n",
       "      <td>8812.000000</td>\n",
       "    </tr>\n",
       "    <tr>\n",
       "      <th>mean</th>\n",
       "      <td>839.890831</td>\n",
       "      <td>0.354630</td>\n",
       "      <td>5.534934e+03</td>\n",
       "      <td>1.320837e+03</td>\n",
       "      <td>0.447571</td>\n",
       "      <td>1.005901</td>\n",
       "      <td>1.048570</td>\n",
       "      <td>123.100431</td>\n",
       "    </tr>\n",
       "    <tr>\n",
       "      <th>std</th>\n",
       "      <td>3192.710062</td>\n",
       "      <td>3.228533</td>\n",
       "      <td>1.331104e+05</td>\n",
       "      <td>2.129119e+04</td>\n",
       "      <td>0.532965</td>\n",
       "      <td>0.859939</td>\n",
       "      <td>1.282536</td>\n",
       "      <td>27.738578</td>\n",
       "    </tr>\n",
       "    <tr>\n",
       "      <th>min</th>\n",
       "      <td>0.000000</td>\n",
       "      <td>0.000000</td>\n",
       "      <td>0.000000e+00</td>\n",
       "      <td>0.000000e+00</td>\n",
       "      <td>0.000000</td>\n",
       "      <td>0.000000</td>\n",
       "      <td>0.000000</td>\n",
       "      <td>4.000000</td>\n",
       "    </tr>\n",
       "    <tr>\n",
       "      <th>25%</th>\n",
       "      <td>0.000000</td>\n",
       "      <td>0.000000</td>\n",
       "      <td>4.800000e+01</td>\n",
       "      <td>9.300000e+01</td>\n",
       "      <td>0.000000</td>\n",
       "      <td>1.000000</td>\n",
       "      <td>0.000000</td>\n",
       "      <td>113.000000</td>\n",
       "    </tr>\n",
       "    <tr>\n",
       "      <th>50%</th>\n",
       "      <td>19.000000</td>\n",
       "      <td>0.000000</td>\n",
       "      <td>1.855000e+02</td>\n",
       "      <td>2.740000e+02</td>\n",
       "      <td>0.000000</td>\n",
       "      <td>1.000000</td>\n",
       "      <td>1.000000</td>\n",
       "      <td>140.000000</td>\n",
       "    </tr>\n",
       "    <tr>\n",
       "      <th>75%</th>\n",
       "      <td>371.250000</td>\n",
       "      <td>0.000000</td>\n",
       "      <td>7.842500e+02</td>\n",
       "      <td>7.910000e+02</td>\n",
       "      <td>1.000000</td>\n",
       "      <td>1.000000</td>\n",
       "      <td>1.000000</td>\n",
       "      <td>140.000000</td>\n",
       "    </tr>\n",
       "    <tr>\n",
       "      <th>max</th>\n",
       "      <td>118799.000000</td>\n",
       "      <td>133.000000</td>\n",
       "      <td>7.847621e+06</td>\n",
       "      <td>1.780298e+06</td>\n",
       "      <td>2.000000</td>\n",
       "      <td>12.000000</td>\n",
       "      <td>13.000000</td>\n",
       "      <td>148.000000</td>\n",
       "    </tr>\n",
       "  </tbody>\n",
       "</table>\n",
       "</div>"
      ],
      "text/plain": [
       "       tweetRetweetCt  tweetFavoriteCt  userFollowerCt  userFriendsCt  \\\n",
       "count     8812.000000      8812.000000    8.812000e+03   8.812000e+03   \n",
       "mean       839.890831         0.354630    5.534934e+03   1.320837e+03   \n",
       "std       3192.710062         3.228533    1.331104e+05   2.129119e+04   \n",
       "min          0.000000         0.000000    0.000000e+00   0.000000e+00   \n",
       "25%          0.000000         0.000000    4.800000e+01   9.300000e+01   \n",
       "50%         19.000000         0.000000    1.855000e+02   2.740000e+02   \n",
       "75%        371.250000         0.000000    7.842500e+02   7.910000e+02   \n",
       "max     118799.000000       133.000000    7.847621e+06   1.780298e+06   \n",
       "\n",
       "         num_links  num_mentions  num_hastags  length_of_tweet  \n",
       "count  8812.000000   8812.000000  8812.000000      8812.000000  \n",
       "mean      0.447571      1.005901     1.048570       123.100431  \n",
       "std       0.532965      0.859939     1.282536        27.738578  \n",
       "min       0.000000      0.000000     0.000000         4.000000  \n",
       "25%       0.000000      1.000000     0.000000       113.000000  \n",
       "50%       0.000000      1.000000     1.000000       140.000000  \n",
       "75%       1.000000      1.000000     1.000000       140.000000  \n",
       "max       2.000000     12.000000    13.000000       148.000000  "
      ]
     },
     "execution_count": 101,
     "metadata": {},
     "output_type": "execute_result"
    }
   ],
   "source": [
    "df.describe()"
   ]
  },
  {
   "cell_type": "code",
   "execution_count": 102,
   "metadata": {
    "scrolled": true
   },
   "outputs": [
    {
     "name": "stdout",
     "output_type": "stream",
     "text": [
      "<class 'pandas.core.frame.DataFrame'>\n",
      "RangeIndex: 8812 entries, 0 to 8811\n",
      "Data columns (total 9 columns):\n",
      "tweetText          8812 non-null object\n",
      "tweetRetweetCt     8812 non-null int64\n",
      "tweetFavoriteCt    8812 non-null int64\n",
      "userFollowerCt     8812 non-null int64\n",
      "userFriendsCt      8812 non-null int64\n",
      "num_links          8812 non-null int64\n",
      "num_mentions       8812 non-null int64\n",
      "num_hastags        8812 non-null int64\n",
      "length_of_tweet    8812 non-null int64\n",
      "dtypes: int64(8), object(1)\n",
      "memory usage: 619.7+ KB\n"
     ]
    }
   ],
   "source": [
    "df.info()"
   ]
  },
  {
   "cell_type": "code",
   "execution_count": 103,
   "metadata": {},
   "outputs": [
    {
     "data": {
      "image/png": "[encoded data removed]",
      "text/plain": [
       "<Figure size 1080x1080 with 2 Axes>"
      ]
     },
     "metadata": {
      "needs_background": "light"
     },
     "output_type": "display_data"
    }
   ],
   "source": [
    "# heatmap using correlation matrix\n",
    "plt.figure(figsize=(15,15))\n",
    "_ = sns.heatmap(df[['tweetRetweetCt','tweetFavoriteCt','userFollowerCt','userFriendsCt','num_links','num_mentions','num_hastags','length_of_tweet']].corr(), square=True, cmap='RdYlGn',linewidths=0.5,linecolor='w',annot=True)\n",
    "plt.title('Correlation matrix ')\n",
    "# plt.savefig('correlation.png')\n",
    "plt.show()"
   ]
  },
  {
   "cell_type": "code",
   "execution_count": 104,
   "metadata": {},
   "outputs": [],
   "source": [
    "df['score'] = df['tweetRetweetCt']+df['tweetFavoriteCt']+df['userFollowerCt']+df['userFriendsCt']+df['num_links']+df['num_mentions']+df['num_hastags']+df['length_of_tweet']"
   ]
  },
  {
   "cell_type": "code",
   "execution_count": 105,
   "metadata": {},
   "outputs": [],
   "source": [
    "# Normalizing score values in range 0 to 100\n",
    "df['score'] = (df['score'] - min(df['score']))/(max(df['score']) - min(df['score']))*100"
   ]
  },
  {
   "cell_type": "code",
   "execution_count": 106,
   "metadata": {
    "scrolled": true
   },
   "outputs": [
    {
     "data": {
      "text/html": [
       "<div>\n",
       "<style scoped>\n",
       "    .dataframe tbody tr th:only-of-type {\n",
       "        vertical-align: middle;\n",
       "    }\n",
       "\n",
       "    .dataframe tbody tr th {\n",
       "        vertical-align: top;\n",
       "    }\n",
       "\n",
       "    .dataframe thead th {\n",
       "        text-align: right;\n",
       "    }\n",
       "</style>\n",
       "<table border=\"1\" class=\"dataframe\">\n",
       "  <thead>\n",
       "    <tr style=\"text-align: right;\">\n",
       "      <th></th>\n",
       "      <th>tweetText</th>\n",
       "      <th>tweetRetweetCt</th>\n",
       "      <th>tweetFavoriteCt</th>\n",
       "      <th>userFollowerCt</th>\n",
       "      <th>userFriendsCt</th>\n",
       "      <th>num_links</th>\n",
       "      <th>num_mentions</th>\n",
       "      <th>num_hastags</th>\n",
       "      <th>length_of_tweet</th>\n",
       "      <th>score</th>\n",
       "    </tr>\n",
       "  </thead>\n",
       "  <tbody>\n",
       "    <tr>\n",
       "      <th>0</th>\n",
       "      <td>RT @softwhoseok: me explaining to namjoon and ...</td>\n",
       "      <td>169</td>\n",
       "      <td>0</td>\n",
       "      <td>547</td>\n",
       "      <td>421</td>\n",
       "      <td>1</td>\n",
       "      <td>1</td>\n",
       "      <td>1</td>\n",
       "      <td>140</td>\n",
       "      <td>0.016079</td>\n",
       "    </tr>\n",
       "    <tr>\n",
       "      <th>1</th>\n",
       "      <td>RT @agustshoongi: Me before #BTSWORLD: any one...</td>\n",
       "      <td>389</td>\n",
       "      <td>0</td>\n",
       "      <td>20</td>\n",
       "      <td>55</td>\n",
       "      <td>0</td>\n",
       "      <td>1</td>\n",
       "      <td>1</td>\n",
       "      <td>140</td>\n",
       "      <td>0.007492</td>\n",
       "    </tr>\n",
       "    <tr>\n",
       "      <th>2</th>\n",
       "      <td>RT @guroderes: i drew my personal interpretati...</td>\n",
       "      <td>3785</td>\n",
       "      <td>0</td>\n",
       "      <td>7169</td>\n",
       "      <td>7142</td>\n",
       "      <td>1</td>\n",
       "      <td>1</td>\n",
       "      <td>2</td>\n",
       "      <td>121</td>\n",
       "      <td>0.231921</td>\n",
       "    </tr>\n",
       "    <tr>\n",
       "      <th>3</th>\n",
       "      <td>RT @btsworIdwide: #BTSWORLD Update:\\n\\nARMY: a...</td>\n",
       "      <td>263</td>\n",
       "      <td>0</td>\n",
       "      <td>4</td>\n",
       "      <td>17</td>\n",
       "      <td>0</td>\n",
       "      <td>1</td>\n",
       "      <td>2</td>\n",
       "      <td>140</td>\n",
       "      <td>0.005211</td>\n",
       "    </tr>\n",
       "    <tr>\n",
       "      <th>4</th>\n",
       "      <td>RT @sugasaward: Me chasing seokjin to audition...</td>\n",
       "      <td>1217</td>\n",
       "      <td>0</td>\n",
       "      <td>716</td>\n",
       "      <td>4442</td>\n",
       "      <td>1</td>\n",
       "      <td>1</td>\n",
       "      <td>1</td>\n",
       "      <td>93</td>\n",
       "      <td>0.082217</td>\n",
       "    </tr>\n",
       "  </tbody>\n",
       "</table>\n",
       "</div>"
      ],
      "text/plain": [
       "                                           tweetText  tweetRetweetCt  \\\n",
       "0  RT @softwhoseok: me explaining to namjoon and ...             169   \n",
       "1  RT @agustshoongi: Me before #BTSWORLD: any one...             389   \n",
       "2  RT @guroderes: i drew my personal interpretati...            3785   \n",
       "3  RT @btsworIdwide: #BTSWORLD Update:\\n\\nARMY: a...             263   \n",
       "4  RT @sugasaward: Me chasing seokjin to audition...            1217   \n",
       "\n",
       "   tweetFavoriteCt  userFollowerCt  userFriendsCt  num_links  num_mentions  \\\n",
       "0                0             547            421          1             1   \n",
       "1                0              20             55          0             1   \n",
       "2                0            7169           7142          1             1   \n",
       "3                0               4             17          0             1   \n",
       "4                0             716           4442          1             1   \n",
       "\n",
       "   num_hastags  length_of_tweet     score  \n",
       "0            1              140  0.016079  \n",
       "1            1              140  0.007492  \n",
       "2            2              121  0.231921  \n",
       "3            2              140  0.005211  \n",
       "4            1               93  0.082217  "
      ]
     },
     "execution_count": 106,
     "metadata": {},
     "output_type": "execute_result"
    }
   ],
   "source": [
    "df.head()"
   ]
  },
  {
   "cell_type": "code",
   "execution_count": 107,
   "metadata": {
    "scrolled": true
   },
   "outputs": [
    {
     "data": {
      "text/html": [
       "<div>\n",
       "<style scoped>\n",
       "    .dataframe tbody tr th:only-of-type {\n",
       "        vertical-align: middle;\n",
       "    }\n",
       "\n",
       "    .dataframe tbody tr th {\n",
       "        vertical-align: top;\n",
       "    }\n",
       "\n",
       "    .dataframe thead th {\n",
       "        text-align: right;\n",
       "    }\n",
       "</style>\n",
       "<table border=\"1\" class=\"dataframe\">\n",
       "  <thead>\n",
       "    <tr style=\"text-align: right;\">\n",
       "      <th></th>\n",
       "      <th>tweetRetweetCt</th>\n",
       "      <th>tweetFavoriteCt</th>\n",
       "      <th>userFollowerCt</th>\n",
       "      <th>userFriendsCt</th>\n",
       "      <th>num_links</th>\n",
       "      <th>num_mentions</th>\n",
       "      <th>num_hastags</th>\n",
       "      <th>length_of_tweet</th>\n",
       "      <th>score</th>\n",
       "    </tr>\n",
       "  </thead>\n",
       "  <tbody>\n",
       "    <tr>\n",
       "      <th>count</th>\n",
       "      <td>8812.000000</td>\n",
       "      <td>8812.000000</td>\n",
       "      <td>8.812000e+03</td>\n",
       "      <td>8.812000e+03</td>\n",
       "      <td>8812.000000</td>\n",
       "      <td>8812.000000</td>\n",
       "      <td>8812.000000</td>\n",
       "      <td>8812.000000</td>\n",
       "      <td>8812.000000</td>\n",
       "    </tr>\n",
       "    <tr>\n",
       "      <th>mean</th>\n",
       "      <td>839.890831</td>\n",
       "      <td>0.354630</td>\n",
       "      <td>5.534934e+03</td>\n",
       "      <td>1.320837e+03</td>\n",
       "      <td>0.447571</td>\n",
       "      <td>1.005901</td>\n",
       "      <td>1.048570</td>\n",
       "      <td>123.100431</td>\n",
       "      <td>0.099424</td>\n",
       "    </tr>\n",
       "    <tr>\n",
       "      <th>std</th>\n",
       "      <td>3192.710062</td>\n",
       "      <td>3.228533</td>\n",
       "      <td>1.331104e+05</td>\n",
       "      <td>2.129119e+04</td>\n",
       "      <td>0.532965</td>\n",
       "      <td>0.859939</td>\n",
       "      <td>1.282536</td>\n",
       "      <td>27.738578</td>\n",
       "      <td>1.760754</td>\n",
       "    </tr>\n",
       "    <tr>\n",
       "      <th>min</th>\n",
       "      <td>0.000000</td>\n",
       "      <td>0.000000</td>\n",
       "      <td>0.000000e+00</td>\n",
       "      <td>0.000000e+00</td>\n",
       "      <td>0.000000</td>\n",
       "      <td>0.000000</td>\n",
       "      <td>0.000000</td>\n",
       "      <td>4.000000</td>\n",
       "      <td>0.000000</td>\n",
       "    </tr>\n",
       "    <tr>\n",
       "      <th>25%</th>\n",
       "      <td>0.000000</td>\n",
       "      <td>0.000000</td>\n",
       "      <td>4.800000e+01</td>\n",
       "      <td>9.300000e+01</td>\n",
       "      <td>0.000000</td>\n",
       "      <td>1.000000</td>\n",
       "      <td>0.000000</td>\n",
       "      <td>113.000000</td>\n",
       "      <td>0.005874</td>\n",
       "    </tr>\n",
       "    <tr>\n",
       "      <th>50%</th>\n",
       "      <td>19.000000</td>\n",
       "      <td>0.000000</td>\n",
       "      <td>1.855000e+02</td>\n",
       "      <td>2.740000e+02</td>\n",
       "      <td>0.000000</td>\n",
       "      <td>1.000000</td>\n",
       "      <td>1.000000</td>\n",
       "      <td>140.000000</td>\n",
       "      <td>0.017066</td>\n",
       "    </tr>\n",
       "    <tr>\n",
       "      <th>75%</th>\n",
       "      <td>371.250000</td>\n",
       "      <td>0.000000</td>\n",
       "      <td>7.842500e+02</td>\n",
       "      <td>7.910000e+02</td>\n",
       "      <td>1.000000</td>\n",
       "      <td>1.000000</td>\n",
       "      <td>1.000000</td>\n",
       "      <td>140.000000</td>\n",
       "      <td>0.042608</td>\n",
       "    </tr>\n",
       "    <tr>\n",
       "      <th>max</th>\n",
       "      <td>118799.000000</td>\n",
       "      <td>133.000000</td>\n",
       "      <td>7.847621e+06</td>\n",
       "      <td>1.780298e+06</td>\n",
       "      <td>2.000000</td>\n",
       "      <td>12.000000</td>\n",
       "      <td>13.000000</td>\n",
       "      <td>148.000000</td>\n",
       "      <td>100.000000</td>\n",
       "    </tr>\n",
       "  </tbody>\n",
       "</table>\n",
       "</div>"
      ],
      "text/plain": [
       "       tweetRetweetCt  tweetFavoriteCt  userFollowerCt  userFriendsCt  \\\n",
       "count     8812.000000      8812.000000    8.812000e+03   8.812000e+03   \n",
       "mean       839.890831         0.354630    5.534934e+03   1.320837e+03   \n",
       "std       3192.710062         3.228533    1.331104e+05   2.129119e+04   \n",
       "min          0.000000         0.000000    0.000000e+00   0.000000e+00   \n",
       "25%          0.000000         0.000000    4.800000e+01   9.300000e+01   \n",
       "50%         19.000000         0.000000    1.855000e+02   2.740000e+02   \n",
       "75%        371.250000         0.000000    7.842500e+02   7.910000e+02   \n",
       "max     118799.000000       133.000000    7.847621e+06   1.780298e+06   \n",
       "\n",
       "         num_links  num_mentions  num_hastags  length_of_tweet        score  \n",
       "count  8812.000000   8812.000000  8812.000000      8812.000000  8812.000000  \n",
       "mean      0.447571      1.005901     1.048570       123.100431     0.099424  \n",
       "std       0.532965      0.859939     1.282536        27.738578     1.760754  \n",
       "min       0.000000      0.000000     0.000000         4.000000     0.000000  \n",
       "25%       0.000000      1.000000     0.000000       113.000000     0.005874  \n",
       "50%       0.000000      1.000000     1.000000       140.000000     0.017066  \n",
       "75%       1.000000      1.000000     1.000000       140.000000     0.042608  \n",
       "max       2.000000     12.000000    13.000000       148.000000   100.000000  "
      ]
     },
     "execution_count": 107,
     "metadata": {},
     "output_type": "execute_result"
    }
   ],
   "source": [
    "df.describe()"
   ]
  },
  {
   "cell_type": "code",
   "execution_count": 114,
   "metadata": {},
   "outputs": [
    {
     "data": {
      "text/html": [
       "<div>\n",
       "<style scoped>\n",
       "    .dataframe tbody tr th:only-of-type {\n",
       "        vertical-align: middle;\n",
       "    }\n",
       "\n",
       "    .dataframe tbody tr th {\n",
       "        vertical-align: top;\n",
       "    }\n",
       "\n",
       "    .dataframe thead th {\n",
       "        text-align: right;\n",
       "    }\n",
       "</style>\n",
       "<table border=\"1\" class=\"dataframe\">\n",
       "  <thead>\n",
       "    <tr style=\"text-align: right;\">\n",
       "      <th></th>\n",
       "      <th>tweetText</th>\n",
       "      <th>tweetRetweetCt</th>\n",
       "      <th>tweetFavoriteCt</th>\n",
       "      <th>userFollowerCt</th>\n",
       "      <th>userFriendsCt</th>\n",
       "      <th>num_links</th>\n",
       "      <th>num_mentions</th>\n",
       "      <th>num_hastags</th>\n",
       "      <th>length_of_tweet</th>\n",
       "      <th>score</th>\n",
       "    </tr>\n",
       "  </thead>\n",
       "  <tbody>\n",
       "    <tr>\n",
       "      <th>4327</th>\n",
       "      <td>Cats movie trailer: internet reacts in horror ...</td>\n",
       "      <td>1</td>\n",
       "      <td>2</td>\n",
       "      <td>7847621</td>\n",
       "      <td>1086</td>\n",
       "      <td>1</td>\n",
       "      <td>0</td>\n",
       "      <td>0</td>\n",
       "      <td>96</td>\n",
       "      <td>100.000000</td>\n",
       "    </tr>\n",
       "    <tr>\n",
       "      <th>6410</th>\n",
       "      <td>It's all downhill \\n\\nfrom here...\\n\\n⛰\\n\\n#Th...</td>\n",
       "      <td>2</td>\n",
       "      <td>3</td>\n",
       "      <td>601870</td>\n",
       "      <td>586145</td>\n",
       "      <td>1</td>\n",
       "      <td>1</td>\n",
       "      <td>2</td>\n",
       "      <td>122</td>\n",
       "      <td>15.137724</td>\n",
       "    </tr>\n",
       "    <tr>\n",
       "      <th>6831</th>\n",
       "      <td>Good Morning Beautiful People 🌞 \\nHow to react...</td>\n",
       "      <td>16</td>\n",
       "      <td>47</td>\n",
       "      <td>1777138</td>\n",
       "      <td>1780298</td>\n",
       "      <td>1</td>\n",
       "      <td>0</td>\n",
       "      <td>2</td>\n",
       "      <td>116</td>\n",
       "      <td>45.326738</td>\n",
       "    </tr>\n",
       "    <tr>\n",
       "      <th>7132</th>\n",
       "      <td>It's all downhill \\n\\nfrom here...\\n\\n⛰\\n\\n#Th...</td>\n",
       "      <td>53</td>\n",
       "      <td>130</td>\n",
       "      <td>601877</td>\n",
       "      <td>586145</td>\n",
       "      <td>1</td>\n",
       "      <td>1</td>\n",
       "      <td>2</td>\n",
       "      <td>122</td>\n",
       "      <td>15.140081</td>\n",
       "    </tr>\n",
       "    <tr>\n",
       "      <th>7597</th>\n",
       "      <td>RT @htshowbiz: #TopGunMaverick trailer: #TomCr...</td>\n",
       "      <td>2</td>\n",
       "      <td>0</td>\n",
       "      <td>6823204</td>\n",
       "      <td>129</td>\n",
       "      <td>0</td>\n",
       "      <td>1</td>\n",
       "      <td>2</td>\n",
       "      <td>140</td>\n",
       "      <td>86.936469</td>\n",
       "    </tr>\n",
       "    <tr>\n",
       "      <th>7629</th>\n",
       "      <td>RT @ieEntertainment: The trailer of #TomCruise...</td>\n",
       "      <td>2</td>\n",
       "      <td>0</td>\n",
       "      <td>3145969</td>\n",
       "      <td>396</td>\n",
       "      <td>1</td>\n",
       "      <td>1</td>\n",
       "      <td>2</td>\n",
       "      <td>115</td>\n",
       "      <td>40.088579</td>\n",
       "    </tr>\n",
       "    <tr>\n",
       "      <th>7901</th>\n",
       "      <td>RT @IndiaToday: Remembering freedom fighter #M...</td>\n",
       "      <td>9</td>\n",
       "      <td>0</td>\n",
       "      <td>1108933</td>\n",
       "      <td>118</td>\n",
       "      <td>1</td>\n",
       "      <td>1</td>\n",
       "      <td>2</td>\n",
       "      <td>140</td>\n",
       "      <td>14.131938</td>\n",
       "    </tr>\n",
       "    <tr>\n",
       "      <th>7904</th>\n",
       "      <td>Remembering freedom fighter #MangalPandey, the...</td>\n",
       "      <td>9</td>\n",
       "      <td>43</td>\n",
       "      <td>5258452</td>\n",
       "      <td>231</td>\n",
       "      <td>1</td>\n",
       "      <td>0</td>\n",
       "      <td>2</td>\n",
       "      <td>129</td>\n",
       "      <td>67.002043</td>\n",
       "    </tr>\n",
       "    <tr>\n",
       "      <th>7954</th>\n",
       "      <td>Remembering the Brave Indian freedom fighter #...</td>\n",
       "      <td>20</td>\n",
       "      <td>94</td>\n",
       "      <td>1510470</td>\n",
       "      <td>332</td>\n",
       "      <td>1</td>\n",
       "      <td>0</td>\n",
       "      <td>1</td>\n",
       "      <td>140</td>\n",
       "      <td>19.251887</td>\n",
       "    </tr>\n",
       "    <tr>\n",
       "      <th>8034</th>\n",
       "      <td>#MangalPandey’s act of rebellion and subsequen...</td>\n",
       "      <td>10</td>\n",
       "      <td>28</td>\n",
       "      <td>948450</td>\n",
       "      <td>199</td>\n",
       "      <td>1</td>\n",
       "      <td>0</td>\n",
       "      <td>1</td>\n",
       "      <td>140</td>\n",
       "      <td>12.088629</td>\n",
       "    </tr>\n",
       "  </tbody>\n",
       "</table>\n",
       "</div>"
      ],
      "text/plain": [
       "                                              tweetText  tweetRetweetCt  \\\n",
       "4327  Cats movie trailer: internet reacts in horror ...               1   \n",
       "6410  It's all downhill \\n\\nfrom here...\\n\\n⛰\\n\\n#Th...               2   \n",
       "6831  Good Morning Beautiful People 🌞 \\nHow to react...              16   \n",
       "7132  It's all downhill \\n\\nfrom here...\\n\\n⛰\\n\\n#Th...              53   \n",
       "7597  RT @htshowbiz: #TopGunMaverick trailer: #TomCr...               2   \n",
       "7629  RT @ieEntertainment: The trailer of #TomCruise...               2   \n",
       "7901  RT @IndiaToday: Remembering freedom fighter #M...               9   \n",
       "7904  Remembering freedom fighter #MangalPandey, the...               9   \n",
       "7954  Remembering the Brave Indian freedom fighter #...              20   \n",
       "8034  #MangalPandey’s act of rebellion and subsequen...              10   \n",
       "\n",
       "      tweetFavoriteCt  userFollowerCt  userFriendsCt  num_links  num_mentions  \\\n",
       "4327                2         7847621           1086          1             0   \n",
       "6410                3          601870         586145          1             1   \n",
       "6831               47         1777138        1780298          1             0   \n",
       "7132              130          601877         586145          1             1   \n",
       "7597                0         6823204            129          0             1   \n",
       "7629                0         3145969            396          1             1   \n",
       "7901                0         1108933            118          1             1   \n",
       "7904               43         5258452            231          1             0   \n",
       "7954               94         1510470            332          1             0   \n",
       "8034               28          948450            199          1             0   \n",
       "\n",
       "      num_hastags  length_of_tweet       score  \n",
       "4327            0               96  100.000000  \n",
       "6410            2              122   15.137724  \n",
       "6831            2              116   45.326738  \n",
       "7132            2              122   15.140081  \n",
       "7597            2              140   86.936469  \n",
       "7629            2              115   40.088579  \n",
       "7901            2              140   14.131938  \n",
       "7904            2              129   67.002043  \n",
       "7954            1              140   19.251887  \n",
       "8034            1              140   12.088629  "
      ]
     },
     "execution_count": 114,
     "metadata": {},
     "output_type": "execute_result"
    }
   ],
   "source": [
    "df[df['score']>10]"
   ]
  },
  {
   "cell_type": "code",
   "execution_count": 121,
   "metadata": {},
   "outputs": [],
   "source": [
    "row_num = [4327, 6410, 6831, 7132, 7597, 7629, 7901, 7904, 7954, 8034]"
   ]
  },
  {
   "cell_type": "code",
   "execution_count": 122,
   "metadata": {},
   "outputs": [
    {
     "data": {
      "text/plain": [
       "1152057976620032000"
      ]
     },
     "execution_count": 122,
     "metadata": {},
     "output_type": "execute_result"
    }
   ],
   "source": [
    "dataset.iloc[8034,1]"
   ]
  },
  {
   "cell_type": "code",
   "execution_count": 54,
   "metadata": {},
   "outputs": [
    {
     "data": {
      "image/png": "[encoded data removed]",
      "text/plain": [
       "<Figure size 1080x1080 with 2 Axes>"
      ]
     },
     "metadata": {
      "needs_background": "light"
     },
     "output_type": "display_data"
    }
   ],
   "source": [
    "# heatmap using correlation matrix\n",
    "plt.figure(figsize=(15,15))\n",
    "_ = sns.heatmap(df[['tweetRetweetCt','tweetFavoriteCt','userFollowerCt','userFriendsCt','num_links','num_mentions','num_hastags','length_of_tweet','score']].corr(), square=True, cmap='RdYlGn',linewidths=0.5,linecolor='w',annot=True)\n",
    "plt.title('Correlation matrix ')\n",
    "# plt.savefig('correlation.png')\n",
    "plt.show()"
   ]
  },
  {
   "cell_type": "code",
   "execution_count": 55,
   "metadata": {},
   "outputs": [],
   "source": [
    "df.drop(df.columns.difference(['tweetText','score']), 1, inplace=True)"
   ]
  },
  {
   "cell_type": "code",
   "execution_count": 56,
   "metadata": {},
   "outputs": [
    {
     "data": {
      "text/html": [
       "<div>\n",
       "<style scoped>\n",
       "    .dataframe tbody tr th:only-of-type {\n",
       "        vertical-align: middle;\n",
       "    }\n",
       "\n",
       "    .dataframe tbody tr th {\n",
       "        vertical-align: top;\n",
       "    }\n",
       "\n",
       "    .dataframe thead th {\n",
       "        text-align: right;\n",
       "    }\n",
       "</style>\n",
       "<table border=\"1\" class=\"dataframe\">\n",
       "  <thead>\n",
       "    <tr style=\"text-align: right;\">\n",
       "      <th></th>\n",
       "      <th>tweetText</th>\n",
       "      <th>score</th>\n",
       "    </tr>\n",
       "  </thead>\n",
       "  <tbody>\n",
       "    <tr>\n",
       "      <th>0</th>\n",
       "      <td>RT @softwhoseok: me explaining to namjoon and ...</td>\n",
       "      <td>0.016079</td>\n",
       "    </tr>\n",
       "    <tr>\n",
       "      <th>1</th>\n",
       "      <td>RT @agustshoongi: Me before #BTSWORLD: any one...</td>\n",
       "      <td>0.007492</td>\n",
       "    </tr>\n",
       "    <tr>\n",
       "      <th>2</th>\n",
       "      <td>RT @guroderes: i drew my personal interpretati...</td>\n",
       "      <td>0.231921</td>\n",
       "    </tr>\n",
       "    <tr>\n",
       "      <th>3</th>\n",
       "      <td>RT @btsworIdwide: #BTSWORLD Update:\\n\\nARMY: a...</td>\n",
       "      <td>0.005211</td>\n",
       "    </tr>\n",
       "    <tr>\n",
       "      <th>4</th>\n",
       "      <td>RT @sugasaward: Me chasing seokjin to audition...</td>\n",
       "      <td>0.082217</td>\n",
       "    </tr>\n",
       "  </tbody>\n",
       "</table>\n",
       "</div>"
      ],
      "text/plain": [
       "                                           tweetText     score\n",
       "0  RT @softwhoseok: me explaining to namjoon and ...  0.016079\n",
       "1  RT @agustshoongi: Me before #BTSWORLD: any one...  0.007492\n",
       "2  RT @guroderes: i drew my personal interpretati...  0.231921\n",
       "3  RT @btsworIdwide: #BTSWORLD Update:\\n\\nARMY: a...  0.005211\n",
       "4  RT @sugasaward: Me chasing seokjin to audition...  0.082217"
      ]
     },
     "execution_count": 56,
     "metadata": {},
     "output_type": "execute_result"
    }
   ],
   "source": [
    "df.head()"
   ]
  },
  {
   "cell_type": "code",
   "execution_count": 57,
   "metadata": {},
   "outputs": [],
   "source": [
    "# create the nlp object using Spacy's English language class\n",
    "nlp = English()"
   ]
  },
  {
   "cell_type": "code",
   "execution_count": 58,
   "metadata": {},
   "outputs": [],
   "source": [
    "# Creating our tokenizer function\n",
    "def spacy_tokenizer(sentence):\n",
    "    # Creating our token object, which is used to create documents with linguistic annotations.\n",
    "    mytokens = nlp(sentence)\n",
    "\n",
    "    # here the token is converted into lowercase if it is a Pronoun and if it is not a Pronoun then it is lemmatized and lowercased    \n",
    "    mytokens = [ word.lemma_.lower().strip() if word.lemma_ != \"-PRON-\" else word.lower_ for word in mytokens ]\n",
    "\n",
    "    # Removing stop words using stopword from spacy library and punctuations from string library\n",
    "    mytokens = [ word for word in mytokens if word not in stop_words and word not in punctuations ]\n",
    "\n",
    "    # return preprocessed list of tokens\n",
    "    return mytokens"
   ]
  },
  {
   "cell_type": "code",
   "execution_count": 59,
   "metadata": {},
   "outputs": [],
   "source": [
    "# Custom transformer using spaCy\n",
    "class predictors(TransformerMixin):\n",
    "    def transform(self, X, **transform_params):\n",
    "        # Cleaning Text\n",
    "        return [clean_text(text) for text in X]\n",
    "\n",
    "    def fit(self, X, y, **fit_params):\n",
    "        return self\n",
    "\n",
    "    def get_params(self, deep=True):\n",
    "        return {}\n",
    "\n",
    "# Basic function to clean the text\n",
    "def clean_text(text):\n",
    "    # Removing spaces and converting text into lowercase\n",
    "    return text.strip().lower()"
   ]
  },
  {
   "cell_type": "code",
   "execution_count": 80,
   "metadata": {},
   "outputs": [],
   "source": [
    "# bow_vector = CountVectorizer(tokenizer = spacy_tokenizer, ngram_range=(1,1))\n",
    "# Creating the Bag of Words model\n",
    "bow_vector = CountVectorizer(max_features = 100,tokenizer = spacy_tokenizer,ngram_range=(4,5))"
   ]
  },
  {
   "cell_type": "markdown",
   "metadata": {},
   "source": [
    "# Separating labels and features"
   ]
  },
  {
   "cell_type": "code",
   "execution_count": 71,
   "metadata": {},
   "outputs": [
    {
     "name": "stdout",
     "output_type": "stream",
     "text": [
      "(8812, 2) (8723, 1) (89, 1) (8723,) (89,)\n"
     ]
    }
   ],
   "source": [
    "X = df.drop('score',axis=1).values\n",
    "y = df['score'].values\n",
    "X_train, X_test, y_train, y_test = train_test_split(X, y, test_size = 0.01, random_state=42)\n",
    "print(df.shape, X_train.shape, X_test.shape,y_train.shape,y_test.shape)"
   ]
  },
  {
   "cell_type": "code",
   "execution_count": null,
   "metadata": {},
   "outputs": [],
   "source": [
    "# Xtrain = train.iloc[0:rows_train,1:]\n",
    "# Xtest = train.iloc[rows_train:,1:]\n",
    "# ytrain = train.iloc[0:rows_train,0]\n",
    "# ytest = train.iloc[rows_train:,0]"
   ]
  },
  {
   "cell_type": "code",
   "execution_count": 72,
   "metadata": {},
   "outputs": [],
   "source": [
    "X_train = X_train.ravel()"
   ]
  },
  {
   "cell_type": "code",
   "execution_count": 73,
   "metadata": {},
   "outputs": [
    {
     "data": {
      "text/plain": [
       "(8723,)"
      ]
     },
     "execution_count": 73,
     "metadata": {},
     "output_type": "execute_result"
    }
   ],
   "source": [
    "X_train.shape"
   ]
  },
  {
   "cell_type": "code",
   "execution_count": 74,
   "metadata": {},
   "outputs": [],
   "source": [
    "X_test = X_test.ravel()"
   ]
  },
  {
   "cell_type": "code",
   "execution_count": 75,
   "metadata": {
    "scrolled": true
   },
   "outputs": [
    {
     "data": {
      "text/plain": [
       "(89,)"
      ]
     },
     "execution_count": 75,
     "metadata": {},
     "output_type": "execute_result"
    }
   ],
   "source": [
    "X_test.shape"
   ]
  },
  {
   "cell_type": "code",
   "execution_count": 76,
   "metadata": {},
   "outputs": [
    {
     "data": {
      "text/plain": [
       "(8723,)"
      ]
     },
     "execution_count": 76,
     "metadata": {},
     "output_type": "execute_result"
    }
   ],
   "source": [
    "y_train.shape"
   ]
  },
  {
   "cell_type": "code",
   "execution_count": 77,
   "metadata": {},
   "outputs": [
    {
     "data": {
      "text/plain": [
       "array(['RT @sunilkapoor8: Salute @ashokepandit for d complaint against #AjazKhan,  arrested. #Judge should ask him to distribute of 500 copies of #…',\n",
       "       'RT @akidearest: Thank you for bringing us some of the best anime we’ve had the pleasure of watching. #PrayForKyoani https://t.co/8OuhN6yaEm',\n",
       "       'Has there been any difference with your party elected twice with overwhelming majority @ShobhaBJP ji? It has actual… https://t.co/FFHkfaYuHK',\n",
       "       ...,\n",
       "       'RT @FactsDevito: i for one think the new Cats movie looks fantastic https://t.co/Nk0pJOSW6K',\n",
       "       'Next: M Santner\\nPAK 89/2 21.1 Ov\\nNZ 237/6 50.0 Ov\\nB Azam 36(44), M Hafeez 24(44)\\n149 runs required from 173 balls… https://t.co/txa53Y8PUG',\n",
       "       'Tribute to Shaheed #mangalpandey ji on his birth anniversary.\\n\\n#SecretOfHappyLife #FridayFeeling https://t.co/zGSIaB8D9l'],\n",
       "      dtype=object)"
      ]
     },
     "execution_count": 77,
     "metadata": {},
     "output_type": "execute_result"
    }
   ],
   "source": [
    "X_train"
   ]
  },
  {
   "cell_type": "code",
   "execution_count": 78,
   "metadata": {},
   "outputs": [],
   "source": [
    "xgboost = XGBRegressor()"
   ]
  },
  {
   "cell_type": "code",
   "execution_count": 81,
   "metadata": {},
   "outputs": [
    {
     "data": {
      "text/plain": [
       "Pipeline(memory=None,\n",
       "     steps=[('cleaner', <__main__.predictors object at 0x00000225E9E3C588>), ('vectorizer', CountVectorizer(analyzer='word', binary=False, decode_error='strict',\n",
       "        dtype=<class 'numpy.int64'>, encoding='utf-8', input='content',\n",
       "        lowercase=True, max_df=1.0, max_features=100, min_df=1,\n",
       "       ...lpha=0, reg_lambda=1, scale_pos_weight=1, seed=None,\n",
       "       silent=None, subsample=1, verbosity=1))])"
      ]
     },
     "execution_count": 81,
     "metadata": {},
     "output_type": "execute_result"
    }
   ],
   "source": [
    "# Create pipeline using Bag of Words\n",
    "pipe = Pipeline([(\"cleaner\", predictors()),\n",
    "                 ('vectorizer', bow_vector),\n",
    "                 ('tfidf',TfidfTransformer()),\n",
    "                 ('regressor', xgboost)])\n",
    "\n",
    "# model generation\n",
    "pipe.fit(X_train,y_train)"
   ]
  },
  {
   "cell_type": "code",
   "execution_count": 93,
   "metadata": {},
   "outputs": [],
   "source": [
    "pred = pipe.predict(X_test)"
   ]
  },
  {
   "cell_type": "markdown",
   "metadata": {},
   "source": [
    "#### Retweet tweets"
   ]
  },
  {
   "cell_type": "code",
   "execution_count": null,
   "metadata": {},
   "outputs": [],
   "source": [
    "## Connect Twitter\n",
    "\n",
    "#Store required keys\n",
    "consumer_key = \"\"\n",
    "consumer_secret = \"\"\n",
    "access_key = \"\"\n",
    "access_secret = \"\"\n",
    "\n",
    "#Establish connection\n",
    "auth = tweepy.OAuthHandler(consumer_key, consumer_secret)\n",
    "auth.set_access_token(access_key, access_secret)\n",
    "api = tweepy.API(auth)"
   ]
  },
  {
   "cell_type": "code",
   "execution_count": null,
   "metadata": {},
   "outputs": [],
   "source": [
    "import time\n",
    "for row in row_num:\n",
    "    tweetid = dataset.iloc[row,1]\n",
    "    print(tweetid)  \n",
    "    api.retweet(tweetid) \n",
    "    time.sleep(3600)"
   ]
  }
 ],
 "metadata": {
  "kernelspec": {
   "display_name": "Python 3",
   "language": "python",
   "name": "python3"
  },
  "language_info": {
   "codemirror_mode": {
    "name": "ipython",
    "version": 3
   },
   "file_extension": ".py",
   "mimetype": "text/x-python",
   "name": "python",
   "nbconvert_exporter": "python",
   "pygments_lexer": "ipython3",
   "version": "3.6.7"
  }
 },
 "nbformat": 4,
 "nbformat_minor": 2
}
