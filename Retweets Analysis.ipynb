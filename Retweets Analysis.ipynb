{
 "cells": [
  {
   "cell_type": "code",
   "execution_count": 3,
   "metadata": {},
   "outputs": [],
   "source": [
    "# loading the required libraries \n",
    "#Load required libraries\n",
    "import os\n",
    "import csv\n",
    "import tweepy\n",
    "from tweepy.streaming import StreamListener\n",
    "from tweepy import OAuthHandler\n",
    "from tweepy import Stream\n",
    "import pandas as pd\n",
    "from vaderSentiment.vaderSentiment import SentimentIntensityAnalyzer\n",
    "from textblob.sentiments import NaiveBayesAnalyzer\n",
    "from spacy.lang.en import English\n",
    "from spacy.lang.en.stop_words import STOP_WORDS\n",
    "stop_words = STOP_WORDS\n",
    "import string\n",
    "punctuations = string.punctuation"
   ]
  },
  {
   "cell_type": "code",
   "execution_count": 2,
   "metadata": {},
   "outputs": [
    {
     "data": {
      "text/plain": [
       "'C:\\\\Users\\\\admin\\\\Documents\\\\Python Files'"
      ]
     },
     "execution_count": 2,
     "metadata": {},
     "output_type": "execute_result"
    }
   ],
   "source": [
    "#set working directory\n",
    "os.chdir(\"C:/Users/admin/Documents/Python Files\")\n",
    "os.getcwd()"
   ]
  },
  {
   "cell_type": "code",
   "execution_count": 3,
   "metadata": {},
   "outputs": [],
   "source": [
    "## Connect Twitter\n",
    "\n",
    "#Store required keys\n",
    "consumer_key = \"9geIDwOzVdbm0dCuAiUpzCUnu\"\n",
    "consumer_secret = \"TzkfViMc6bDdK2FILQ8xTVCG82qjn0FhUdvsJGzlQ79J0EG3SR\"\n",
    "access_key = \"1541025487-DeXUlBh0Oo76u5NWW4j7iPejrTlRbw3A3Q2zMU0\"\n",
    "access_secret = \"J0H68P6Zgmx7tcQfEL0qjDVgsTXsPTGeRml04cbk233jp\""
   ]
  },
  {
   "cell_type": "code",
   "execution_count": 4,
   "metadata": {},
   "outputs": [],
   "source": [
    "#Establish connection\n",
    "auth = tweepy.OAuthHandler(consumer_key, consumer_secret)\n",
    "auth.set_access_token(access_key, access_secret)\n",
    "api = tweepy.API(auth)"
   ]
  },
  {
   "cell_type": "markdown",
   "metadata": {},
   "source": [
    "##### \tWe have extracted tweets by below trending Hastags\n",
    "1. \t#BTSWORLD\n",
    "-Tweet count: 500\n",
    "2. \t#PAKvNZ\n",
    "-Tweet count: 500\n",
    "3. \t#GOT7onTodayShow\n",
    "-Tweet count: 500"
   ]
  },
  {
   "cell_type": "code",
   "execution_count": 16,
   "metadata": {},
   "outputs": [],
   "source": [
    "#Extract tweets\n",
    "#Create empty list\n",
    "results = []\n",
    "trending_hastags = ['#BTSWORLD','#PAKvNZ','#GOT7onTodayShow']\n",
    "for i in trending_hastags:\n",
    "    #Get the first 500 items based on the search query\n",
    "    for tweet in tweepy.Cursor(api.search,q=i,lang=\"en\").items(500):\n",
    "        results.append(tweet)"
   ]
  },
  {
   "cell_type": "code",
   "execution_count": 17,
   "metadata": {},
   "outputs": [
    {
     "name": "stdout",
     "output_type": "stream",
     "text": [
      "1500\n"
     ]
    }
   ],
   "source": [
    "# Verify the number of items returned\n",
    "print (len(results))"
   ]
  },
  {
   "cell_type": "code",
   "execution_count": 18,
   "metadata": {},
   "outputs": [],
   "source": [
    "#Convert list into dataframe\n",
    "def toDataFrame(tweets):\n",
    "    #Create empty data frame\n",
    "    DataSet = pd.DataFrame()\n",
    "    \n",
    "    #extract relevant information\n",
    "    DataSet['tweetID'] = [tweet.id for tweet in tweets]\n",
    "    DataSet['tweetText'] = [tweet.text for tweet in tweets]\n",
    "    DataSet['tweetRetweetCt'] = [tweet.retweet_count for tweet in tweets]\n",
    "    DataSet['tweetFavoriteCt'] = [tweet.favorite_count for tweet in tweets]\n",
    "    DataSet['tweetSource'] = [tweet.source for tweet in tweets]\n",
    "    DataSet['tweetCreated'] = [tweet.created_at for tweet in tweets]\n",
    "    DataSet['userID'] = [tweet.user.id for tweet in tweets]\n",
    "    DataSet['userScreen'] = [tweet.user.screen_name for tweet in tweets]\n",
    "    DataSet['userName'] = [tweet.user.name for tweet in tweets]\n",
    "    DataSet['userCreateDt'] = [tweet.user.created_at for tweet in tweets]\n",
    "    DataSet['userDesc'] = [tweet.user.description for tweet in tweets]\n",
    "    DataSet['userFollowerCt'] = [tweet.user.followers_count for tweet in tweets]\n",
    "    DataSet['userFriendsCt'] = [tweet.user.friends_count for tweet in tweets]\n",
    "    DataSet['userLocation'] = [tweet.user.location for tweet in tweets]\n",
    "    DataSet['userTimezone'] = [tweet.user.time_zone for tweet in tweets]\n",
    "\n",
    "    return DataSet"
   ]
  },
  {
   "cell_type": "code",
   "execution_count": 19,
   "metadata": {},
   "outputs": [],
   "source": [
    "#Pass the tweets list to the above function to create a DataFrame\n",
    "DataSet = toDataFrame(results)"
   ]
  },
  {
   "cell_type": "code",
   "execution_count": 21,
   "metadata": {},
   "outputs": [
    {
     "data": {
      "text/html": [
       "<div>\n",
       "<style scoped>\n",
       "    .dataframe tbody tr th:only-of-type {\n",
       "        vertical-align: middle;\n",
       "    }\n",
       "\n",
       "    .dataframe tbody tr th {\n",
       "        vertical-align: top;\n",
       "    }\n",
       "\n",
       "    .dataframe thead th {\n",
       "        text-align: right;\n",
       "    }\n",
       "</style>\n",
       "<table border=\"1\" class=\"dataframe\">\n",
       "  <thead>\n",
       "    <tr style=\"text-align: right;\">\n",
       "      <th></th>\n",
       "      <th>tweetID</th>\n",
       "      <th>tweetText</th>\n",
       "      <th>tweetRetweetCt</th>\n",
       "      <th>tweetFavoriteCt</th>\n",
       "      <th>tweetSource</th>\n",
       "      <th>tweetCreated</th>\n",
       "      <th>userID</th>\n",
       "      <th>userScreen</th>\n",
       "      <th>userName</th>\n",
       "      <th>userCreateDt</th>\n",
       "      <th>userDesc</th>\n",
       "      <th>userFollowerCt</th>\n",
       "      <th>userFriendsCt</th>\n",
       "      <th>userLocation</th>\n",
       "      <th>userTimezone</th>\n",
       "    </tr>\n",
       "  </thead>\n",
       "  <tbody>\n",
       "    <tr>\n",
       "      <th>0</th>\n",
       "      <td>1143919690743341056</td>\n",
       "      <td>RT @softwhoseok: me explaining to namjoon and ...</td>\n",
       "      <td>169</td>\n",
       "      <td>0</td>\n",
       "      <td>Twitter for Android</td>\n",
       "      <td>2019-06-26 16:31:21</td>\n",
       "      <td>192224155</td>\n",
       "      <td>owenthesaintss</td>\n",
       "      <td>✨ hope right here✨</td>\n",
       "      <td>2010-09-18 14:48:44</td>\n",
       "      <td>FUCK your zodiac sign what’s your name what ex...</td>\n",
       "      <td>547</td>\n",
       "      <td>421</td>\n",
       "      <td></td>\n",
       "      <td>None</td>\n",
       "    </tr>\n",
       "    <tr>\n",
       "      <th>1</th>\n",
       "      <td>1143919690718334976</td>\n",
       "      <td>RT @agustshoongi: Me before #BTSWORLD: any one...</td>\n",
       "      <td>389</td>\n",
       "      <td>0</td>\n",
       "      <td>Twitter for Android</td>\n",
       "      <td>2019-06-26 16:31:21</td>\n",
       "      <td>1141749496755499011</td>\n",
       "      <td>reveluv_exe</td>\n",
       "      <td>Gabi$ 🤡 #ATEEZ2ndWin ಥ‿ಥ</td>\n",
       "      <td>2019-06-20 16:47:47</td>\n",
       "      <td>to__##JIMINIE : I will be your manager on bts ...</td>\n",
       "      <td>20</td>\n",
       "      <td>55</td>\n",
       "      <td>was created 20/06/19</td>\n",
       "      <td>None</td>\n",
       "    </tr>\n",
       "    <tr>\n",
       "      <th>2</th>\n",
       "      <td>1143919690407956483</td>\n",
       "      <td>RT @guroderes: i drew my personal interpretati...</td>\n",
       "      <td>3785</td>\n",
       "      <td>0</td>\n",
       "      <td>Twitter for iPhone</td>\n",
       "      <td>2019-06-26 16:31:21</td>\n",
       "      <td>3234322494</td>\n",
       "      <td>whozhaechann</td>\n",
       "      <td>ThaYsPetAcuLaR Viu o jk voando 25/05</td>\n",
       "      <td>2015-06-02 23:45:29</td>\n",
       "      <td>If teardrops could be bottled? 🥀{fã account} @...</td>\n",
       "      <td>7169</td>\n",
       "      <td>7142</td>\n",
       "      <td>Rio de Janeiro, Brasil</td>\n",
       "      <td>None</td>\n",
       "    </tr>\n",
       "    <tr>\n",
       "      <th>3</th>\n",
       "      <td>1143919689786990594</td>\n",
       "      <td>RT @btsworIdwide: #BTSWORLD Update:\\n\\nARMY: a...</td>\n",
       "      <td>263</td>\n",
       "      <td>0</td>\n",
       "      <td>Twitter Web App</td>\n",
       "      <td>2019-06-26 16:31:21</td>\n",
       "      <td>1127776211214655489</td>\n",
       "      <td>chilachiara</td>\n",
       "      <td>Chila</td>\n",
       "      <td>2019-05-13 03:22:56</td>\n",
       "      <td>I dont care</td>\n",
       "      <td>4</td>\n",
       "      <td>17</td>\n",
       "      <td></td>\n",
       "      <td>None</td>\n",
       "    </tr>\n",
       "    <tr>\n",
       "      <th>4</th>\n",
       "      <td>1143919689619398656</td>\n",
       "      <td>RT @sugasaward: Me chasing seokjin to audition...</td>\n",
       "      <td>1217</td>\n",
       "      <td>0</td>\n",
       "      <td>Twitter Web App</td>\n",
       "      <td>2019-06-26 16:31:21</td>\n",
       "      <td>1113918609275990016</td>\n",
       "      <td>LeilaXBangtan</td>\n",
       "      <td>Leila🔥</td>\n",
       "      <td>2019-04-04 21:37:46</td>\n",
       "      <td></td>\n",
       "      <td>716</td>\n",
       "      <td>4442</td>\n",
       "      <td></td>\n",
       "      <td>None</td>\n",
       "    </tr>\n",
       "  </tbody>\n",
       "</table>\n",
       "</div>"
      ],
      "text/plain": [
       "               tweetID                                          tweetText  \\\n",
       "0  1143919690743341056  RT @softwhoseok: me explaining to namjoon and ...   \n",
       "1  1143919690718334976  RT @agustshoongi: Me before #BTSWORLD: any one...   \n",
       "2  1143919690407956483  RT @guroderes: i drew my personal interpretati...   \n",
       "3  1143919689786990594  RT @btsworIdwide: #BTSWORLD Update:\\n\\nARMY: a...   \n",
       "4  1143919689619398656  RT @sugasaward: Me chasing seokjin to audition...   \n",
       "\n",
       "   tweetRetweetCt  tweetFavoriteCt          tweetSource        tweetCreated  \\\n",
       "0             169                0  Twitter for Android 2019-06-26 16:31:21   \n",
       "1             389                0  Twitter for Android 2019-06-26 16:31:21   \n",
       "2            3785                0   Twitter for iPhone 2019-06-26 16:31:21   \n",
       "3             263                0      Twitter Web App 2019-06-26 16:31:21   \n",
       "4            1217                0      Twitter Web App 2019-06-26 16:31:21   \n",
       "\n",
       "                userID      userScreen                              userName  \\\n",
       "0            192224155  owenthesaintss                    ✨ hope right here✨   \n",
       "1  1141749496755499011     reveluv_exe              Gabi$ 🤡 #ATEEZ2ndWin ಥ‿ಥ   \n",
       "2           3234322494    whozhaechann  ThaYsPetAcuLaR Viu o jk voando 25/05   \n",
       "3  1127776211214655489     chilachiara                                 Chila   \n",
       "4  1113918609275990016   LeilaXBangtan                                Leila🔥   \n",
       "\n",
       "         userCreateDt                                           userDesc  \\\n",
       "0 2010-09-18 14:48:44  FUCK your zodiac sign what’s your name what ex...   \n",
       "1 2019-06-20 16:47:47  to__##JIMINIE : I will be your manager on bts ...   \n",
       "2 2015-06-02 23:45:29  If teardrops could be bottled? 🥀{fã account} @...   \n",
       "3 2019-05-13 03:22:56                                        I dont care   \n",
       "4 2019-04-04 21:37:46                                                      \n",
       "\n",
       "   userFollowerCt  userFriendsCt            userLocation userTimezone  \n",
       "0             547            421                                 None  \n",
       "1              20             55    was created 20/06/19         None  \n",
       "2            7169           7142  Rio de Janeiro, Brasil         None  \n",
       "3               4             17                                 None  \n",
       "4             716           4442                                 None  "
      ]
     },
     "execution_count": 21,
     "metadata": {},
     "output_type": "execute_result"
    }
   ],
   "source": [
    "DataSet.head(5)"
   ]
  },
  {
   "cell_type": "code",
   "execution_count": 23,
   "metadata": {},
   "outputs": [],
   "source": [
    "DataSet.to_csv('tweeterDataset.csv')"
   ]
  },
  {
   "cell_type": "code",
   "execution_count": 3,
   "metadata": {},
   "outputs": [],
   "source": [
    "#Load Text data\n",
    "df = pd.read_csv(\"tweeterDataset.csv\")"
   ]
  },
  {
   "cell_type": "code",
   "execution_count": null,
   "metadata": {},
   "outputs": [],
   "source": [
    "# create the nlp object using Spacy's English language class\n",
    "nlp = English()"
   ]
  },
  {
   "cell_type": "code",
   "execution_count": null,
   "metadata": {},
   "outputs": [],
   "source": [
    "# Creating our tokenizer function\n",
    "def spacy_tokenizer(sentence):\n",
    "    # Creating our token object, which is used to create documents with linguistic annotations.\n",
    "    mytokens = nlp(sentence)\n",
    "\n",
    "    # here the token is converted into lowercase if it is a Pronoun and if it is not a Pronoun then it is lemmatized and lowercased    \n",
    "    mytokens = [ word.lemma_.lower().strip() if word.lemma_ != \"-PRON-\" else word.lower_ for word in mytokens ]\n",
    "\n",
    "    # Removing stop words using stopword from spacy library and punctuations from string library\n",
    "    mytokens = [ word for word in mytokens if word not in stop_words and word not in punctuations ]\n",
    "\n",
    "    # return preprocessed list of tokens\n",
    "    return mytokens"
   ]
  },
  {
   "cell_type": "code",
   "execution_count": null,
   "metadata": {},
   "outputs": [],
   "source": [
    "# Custom transformer using spaCy\n",
    "class predictors(TransformerMixin):\n",
    "    def transform(self, X, **transform_params):\n",
    "        # Cleaning Text\n",
    "        return [clean_text(text) for text in X]\n",
    "\n",
    "    def fit(self, X, y, **fit_params):\n",
    "        return self\n",
    "\n",
    "    def get_params(self, deep=True):\n",
    "        return {}\n",
    "\n",
    "# Basic function to clean the text\n",
    "def clean_text(text):\n",
    "    # Removing spaces and converting text into lowercase\n",
    "    return text.strip().lower()"
   ]
  },
  {
   "cell_type": "code",
   "execution_count": null,
   "metadata": {},
   "outputs": [],
   "source": [
    "# bow_vector = CountVectorizer(tokenizer = spacy_tokenizer, ngram_range=(1,1))\n",
    "# Creating the Bag of Words model\n",
    "bow_vector = CountVectorizer(max_features = 100,tokenizer = spacy_tokenizer,ngram_range=(1,2))\n",
    "# X = bow_vector.fit_transform(train.loc[:,'Title']).toarray()"
   ]
  },
  {
   "cell_type": "code",
   "execution_count": null,
   "metadata": {},
   "outputs": [],
   "source": []
  },
  {
   "cell_type": "code",
   "execution_count": null,
   "metadata": {},
   "outputs": [],
   "source": [
    "# Sentiment Analysis using Vader\n",
    "FinalResults_Vader = pd.DataFrame()\n",
    "\n",
    "# Create engine\n",
    "analyzer = SentimentIntensityAnalyzer()\n",
    "\n",
    "# Run Engine\n",
    "for i in range(0, post.shape[0]):\n",
    "    \n",
    "    snt = analyzer.polarity_scores(post.iloc[i,1])\n",
    "    \n",
    "    temp = pd.DataFrame({'Comments': post.iloc[i,1], 'Polarity': list(snt.items())[3][1]}, index = [0])\n",
    "\n",
    "    FinalResults_Vader = FinalResults_Vader.append(temp)    \n",
    "    "
   ]
  },
  {
   "cell_type": "code",
   "execution_count": null,
   "metadata": {},
   "outputs": [],
   "source": []
  }
 ],
 "metadata": {
  "kernelspec": {
   "display_name": "Python 3",
   "language": "python",
   "name": "python3"
  },
  "language_info": {
   "codemirror_mode": {
    "name": "ipython",
    "version": 3
   },
   "file_extension": ".py",
   "mimetype": "text/x-python",
   "name": "python",
   "nbconvert_exporter": "python",
   "pygments_lexer": "ipython3",
   "version": "3.6.7"
  }
 },
 "nbformat": 4,
 "nbformat_minor": 2
}
